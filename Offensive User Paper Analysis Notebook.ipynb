{
 "cells": [
  {
   "cell_type": "markdown",
   "metadata": {
    "colab_type": "text",
    "id": "G8vw7i0HZTdh"
   },
   "source": [
    "# Large-Scale Quantitative Evaluation of Dialogue Agents' Response Strategies against Offensive Users\n",
    "\n",
    "This is an accompanying data analysis notebook for the \"Large-Scale Quantitative Evaluation of Dialogue Agents' Response Strategies against Offensive Users\" paper. \n",
    "\n",
    "In the first part of this notebook, we analyize the effectiveness of different strategies our bot uses when responding to offensive user remarks in stopping repeated abuse. In the second part of this notebook, we provide additional analysis on the types of offensive utterances. However, due to limitations of our classification of offensive utterances, we will not include the second part of our analysis in our paper.\n"
   ]
  },
  {
   "cell_type": "markdown",
   "metadata": {
    "colab_type": "text",
    "id": "RuLz5fwGZTdk"
   },
   "source": [
    "## Setup and Data Loading"
   ]
  },
  {
   "cell_type": "markdown",
   "metadata": {
    "colab_type": "text",
    "id": "NZAaSmRGZTdm"
   },
   "source": [
    "Since we are not allowed to share real user conversations, we processed the user conversations and created an anonymized aggregated dataset from the data we collected over 2 months (May 23, 2020 to August 14, 2020). Details about our data collection methodology can be found in our paper."
   ]
  },
  {
   "cell_type": "code",
   "execution_count": 1,
   "metadata": {
    "colab": {},
    "colab_type": "code",
    "id": "zlPQEZls9ZiN"
   },
   "outputs": [],
   "source": [
    "# Import statements\n",
    "from collections import defaultdict, Counter\n",
    "from itertools import combinations\n",
    "\n",
    "import os\n",
    "import csv\n",
    "import json\n",
    "import scipy as sp\n",
    "import numpy as np\n",
    "import pandas as pd\n",
    "import matplotlib.pyplot as plt\n",
    "from tabulate import tabulate\n",
    "from IPython.display import HTML, display\n",
    "from scipy.stats import fisher_exact, chi2_contingency, ttest_ind"
   ]
  },
  {
   "cell_type": "code",
   "execution_count": 2,
   "metadata": {},
   "outputs": [],
   "source": [
    "from statsmodels.stats.contingency_tables import Table2x2"
   ]
  },
  {
   "cell_type": "code",
   "execution_count": 3,
   "metadata": {},
   "outputs": [
    {
     "data": {
      "text/plain": [
       "'0.12.2'"
      ]
     },
     "execution_count": 3,
     "metadata": {},
     "output_type": "execute_result"
    }
   ],
   "source": [
    "import statsmodels\n",
    "statsmodels.__version__"
   ]
  },
  {
   "cell_type": "code",
   "execution_count": 4,
   "metadata": {
    "colab": {},
    "colab_type": "code",
    "id": "lHMB-J8-ZTdp",
    "scrolled": false
   },
   "outputs": [],
   "source": [
    "with open('data/anonymized_conversations.jsonl', 'r') as file_handle:\n",
    "    data = [json.loads(line) for line in file_handle]"
   ]
  },
  {
   "cell_type": "code",
   "execution_count": 5,
   "metadata": {
    "colab": {},
    "colab_type": "code",
    "id": "uMT-TQRKTeiM",
    "outputId": "b7670b26-3467-43ab-b6cd-060dd9849d80"
   },
   "outputs": [
    {
     "data": {
      "text/plain": [
       "{'rating': 4.0,\n",
       " '_response_strategy': 'E3C6 - RegularResponse (prompt)',\n",
       " 'response_strategy': 'AVOIDANCE+REDIRECT',\n",
       " 'offensive_turns': [{'turn_index': 13,\n",
       "   'offense_type': 'sexual',\n",
       "   'responded': False},\n",
       "  {'turn_index': 14, 'offense_type': 'sexual', 'responded': True}],\n",
       " 'num_total_turns': 17,\n",
       " 'id': 0}"
      ]
     },
     "execution_count": 5,
     "metadata": {},
     "output_type": "execute_result"
    }
   ],
   "source": [
    "data[0]"
   ]
  },
  {
   "cell_type": "markdown",
   "metadata": {
    "colab_type": "text",
    "id": "VD90ga4TTeiW"
   },
   "source": [
    "The dataset contains meta data of each conversations. Specifically, it contains the following fields\n",
    "\n",
    "- `id`: an unique identification of this conversation (in reality this is just an index)\n",
    "- `rating`: the rating that we received for each conversation\n",
    "- `num_total_turns`: the number of total turns in this conversation\n",
    "- `response_strategy`: the response strategy corresponding to the strategies in the paper.\n",
    "- `offensive_turns`: a list of turns that we identified as offensive. Each offensive turn contains the following fields\n",
    "    - `turn_index`: the index of the turn\n",
    "    - `offense_type`: the type of offense as identified by the authors\n",
    "    - `responded`: whether we responded to the offense or not\n",
    "    \n",
    "As we can see from the first example of the data, we might have not responded to every offense due to the limitation described in our paper. We will still count them as offensive during our analysis to make our results accurate"
   ]
  },
  {
   "cell_type": "markdown",
   "metadata": {},
   "source": [
    "## Part 0: Summary Statistics\n",
    "\n",
    "In this part, we print out summary statistics of our data such as the sample size for each response strategy"
   ]
  },
  {
   "cell_type": "code",
   "execution_count": 6,
   "metadata": {},
   "outputs": [
    {
     "name": "stdout",
     "output_type": "stream",
     "text": [
      "There are 13276 conversations in our dataset\n",
      "There are 235775 user utterances total, out of which 49511 user utterances are offensive\n"
     ]
    }
   ],
   "source": [
    "print(f'There are {len(data)} conversations in our dataset')\n",
    "print(f\"There are {sum(convo['num_total_turns'] // 2 for convo in data)} user utterances total,\" +\\\n",
    "      f\" out of which {sum(len(convo['offensive_turns']) for convo in data)} user utterances are offensive\")"
   ]
  },
  {
   "cell_type": "code",
   "execution_count": 7,
   "metadata": {},
   "outputs": [
    {
     "data": {
      "image/png": "[encoded data removed]",
      "text/plain": [
       "<Figure size 432x432 with 1 Axes>"
      ]
     },
     "metadata": {
      "needs_background": "light"
     },
     "output_type": "display_data"
    }
   ],
   "source": [
    "plt.figure(figsize=(6, 6))\n",
    "plt.hist([convo['num_total_turns'] for convo in data], bins=20)\n",
    "plt.title('Histogram of conversation length (turns)')\n",
    "plt.xlabel('Number of total turns (bot and user)')\n",
    "plt.ylabel('Number of conversations')\n",
    "plt.show()"
   ]
  },
  {
   "cell_type": "code",
   "execution_count": 8,
   "metadata": {},
   "outputs": [
    {
     "data": {
      "image/png": "[encoded data removed]",
      "text/plain": [
       "<Figure size 864x432 with 1 Axes>"
      ]
     },
     "metadata": {
      "needs_background": "light"
     },
     "output_type": "display_data"
    }
   ],
   "source": [
    "logbins = 2 ** np.arange(10, step=0.5)\n",
    "plt.figure(figsize=(12, 6))\n",
    "plt.hist([convo['num_total_turns'] for convo in data], bins=logbins)\n",
    "plt.xscale('log', basex=2)\n",
    "plt.title('Histogram of conversation length (turns)')\n",
    "plt.xlabel('Number of total turns (bot and user) in Log Scale')\n",
    "plt.ylabel('Number of conversations')\n",
    "plt.xticks(logbins, [f'$2^{{{i}}}$' for i in np.arange(10, step=0.5)])\n",
    "plt.savefig('plot/convo_length_histogram.png')"
   ]
  },
  {
   "cell_type": "markdown",
   "metadata": {},
   "source": [
    "As we can see from the plots above, the distribution of conversation lengths is heavily right skewed. Plotting the histogram on log scale shows that it is normally distributed on the log scale."
   ]
  },
  {
   "cell_type": "code",
   "execution_count": 9,
   "metadata": {
    "colab": {},
    "colab_type": "code",
    "id": "1i8sgos1iod9"
   },
   "outputs": [],
   "source": [
    "strategies = sorted(list(set([convo['response_strategy'] for convo in data]) - {'AVOIDANCE+PROMPT (CONTEXTUAL)'}))"
   ]
  },
  {
   "cell_type": "code",
   "execution_count": 10,
   "metadata": {},
   "outputs": [
    {
     "data": {
      "text/html": [
       "<table>\n",
       "<thead>\n",
       "<tr><th>Response Strategy               </th><th style=\"text-align: right;\">  Sample Size</th></tr>\n",
       "</thead>\n",
       "<tbody>\n",
       "<tr><td>AVOIDANCE                       </td><td style=\"text-align: right;\">         1724</td></tr>\n",
       "<tr><td>AVOIDANCE+NAME                  </td><td style=\"text-align: right;\">          867</td></tr>\n",
       "<tr><td>AVOIDANCE+NAME+REDIRECT         </td><td style=\"text-align: right;\">          860</td></tr>\n",
       "<tr><td>AVOIDANCE+REDIRECT              </td><td style=\"text-align: right;\">         1759</td></tr>\n",
       "<tr><td>AVOIDANCE+REDIRECT (CONTEXTUAL) </td><td style=\"text-align: right;\">         1802</td></tr>\n",
       "<tr><td>COUNTER+REDIRECT (CONTEXTUAL)   </td><td style=\"text-align: right;\">         1859</td></tr>\n",
       "<tr><td>EMPATHETIC+REDIRECT (CONTEXTUAL)</td><td style=\"text-align: right;\">         1814</td></tr>\n",
       "<tr><td>WHY                             </td><td style=\"text-align: right;\">         1755</td></tr>\n",
       "<tr><td>WHY+NAME                        </td><td style=\"text-align: right;\">          836</td></tr>\n",
       "</tbody>\n",
       "</table>"
      ],
      "text/plain": [
       "<IPython.core.display.HTML object>"
      ]
     },
     "metadata": {},
     "output_type": "display_data"
    },
    {
     "name": "stdout",
     "output_type": "stream",
     "text": [
      "\\begin{tabular}{lr}\n",
      "\\hline\n",
      " Response Strategy                         &   Sample Size \\\\\n",
      "\\hline\n",
      " \\texttt{AVOIDANCE}                        &          1724 \\\\\n",
      " \\texttt{AVOIDANCE+NAME}                   &           867 \\\\\n",
      " \\texttt{AVOIDANCE+NAME+REDIRECT}          &           860 \\\\\n",
      " \\texttt{AVOIDANCE+REDIRECT}               &          1759 \\\\\n",
      " \\texttt{AVOIDANCE+REDIRECT (CONTEXTUAL)}  &          1802 \\\\\n",
      " \\texttt{COUNTER+REDIRECT (CONTEXTUAL)}    &          1859 \\\\\n",
      " \\texttt{EMPATHETIC+REDIRECT (CONTEXTUAL)} &          1814 \\\\\n",
      " \\texttt{WHY}                              &          1755 \\\\\n",
      " \\texttt{WHY+NAME}                         &           836 \\\\\n",
      "\\hline\n",
      "\\end{tabular}\n"
     ]
    }
   ],
   "source": [
    "sample_sizes = defaultdict(lambda: 0)\n",
    "for strategy in strategies:\n",
    "    for convo in data:\n",
    "        if convo['response_strategy'] == strategy:\n",
    "            sample_sizes[strategy] += 1\n",
    "\n",
    "headers = ['Response Strategy', 'Sample Size']\n",
    "rows = list(map(list, sample_sizes.items()))\n",
    "display(HTML(tabulate(rows, headers=headers, tablefmt='html')))\n",
    "rows = [[\"\\\\texttt{\" + row[0] + \"}\"] + row[1:] for row in rows]\n",
    "print(tabulate(rows, headers=headers, tablefmt='latex_raw'))"
   ]
  },
  {
   "cell_type": "markdown",
   "metadata": {},
   "source": [
    "Note that there is a noticeable difference in the sample sizes since we only select strategies with NAME factor if we actually received a user's name in the beginning of the conversation. A limitation of this approach is that there could potentially be correlations of offensive behavior with whether or not the user provided a name in the beginning of the conversation. Unfortunately we did not think about this case when we designed the experiments and were unable to recover that information and this will remain a limitation of our research."
   ]
  },
  {
   "cell_type": "markdown",
   "metadata": {
    "colab_type": "text",
    "id": "xoq0ocY1ZTfd"
   },
   "source": [
    "## Part 1. Response Strategy Analysis\n",
    "\n",
    "We perform our response strategy analysis in the first part of this notebook. According to our hypothesis in the paper, we test strategies crossing the following factors\n",
    "\n",
    "1. PROMPT: Whether giving a prompt to the user and actively redirecting the conversation has a positive effect in stopping and curbing abuse\n",
    "2. NAME: Whether using user's names (provided to us voluntarily) is able to assist in stopping abuse\n",
    "3. WHY Strategies: Whether we should ask the user \"why\" they abuse us"
   ]
  },
  {
   "cell_type": "markdown",
   "metadata": {},
   "source": [
    "The following helper functions is used by all the analysis below:"
   ]
  },
  {
   "cell_type": "code",
   "execution_count": 11,
   "metadata": {},
   "outputs": [],
   "source": [
    "def derive_data(data):\n",
    "    strategy_grouped = {}\n",
    "    for metadata in data:\n",
    "        strat = metadata['response_strategy']\n",
    "        if strat not in strategy_grouped:\n",
    "            strategy_grouped[strat] = {'reoffend': [],\n",
    "                                       'turns_til_next': [], \n",
    "                                       'turns_til_end': []}\n",
    "        first_responded_i = next(i for i, turn in enumerate(metadata['offensive_turns']) if turn['responded'])\n",
    "        reoffend = len(metadata['offensive_turns'][first_responded_i+1:]) > 0\n",
    "        strategy_grouped[strat]['reoffend'].append(reoffend)\n",
    "        if reoffend:\n",
    "            strategy_grouped[strat]['turns_til_next'].append(\n",
    "                metadata['offensive_turns'][first_responded_i + 1]['turn_index'] - \\\n",
    "                metadata['offensive_turns'][first_responded_i]['turn_index'])\n",
    "        else:\n",
    "            strategy_grouped[strat]['turns_til_end'].append(\n",
    "                metadata['num_total_turns'] - metadata['offensive_turns'][first_responded_i]['turn_index'] - 1)\n",
    "    return strategy_grouped\n",
    "\n",
    "derived_data = derive_data(data)"
   ]
  },
  {
   "cell_type": "markdown",
   "metadata": {},
   "source": [
    "The derived data is a dictionary of the following format\n",
    "\n",
    "- key: strategy\n",
    "- value, a dictionary of:\n",
    "    - reoffend: a list containing a boolean value indicating reoffenses\n",
    "    - turns_til_next: a list containing the number of turns until the next reoffense assuming the user did reoffend\n",
    "    - turns_til_end: a list containing the number of turns until the end of the conversation assuming the user did NOT reoffend"
   ]
  },
  {
   "cell_type": "markdown",
   "metadata": {},
   "source": [
    "### Summary of all metrics\n",
    "\n",
    "Here we summarize all of our metrics, namely\n",
    "1. Reoffense (The reoffense ratio)\n",
    "2. Next (The average number of turns until the next offense (assume there is one))\n",
    "3. End (The average number of turns until the end of the conversation (assuming there is no reoffense))"
   ]
  },
  {
   "cell_type": "code",
   "execution_count": 12,
   "metadata": {},
   "outputs": [
    {
     "data": {
      "text/html": [
       "<table>\n",
       "<thead>\n",
       "<tr><th>Strategy                        </th><th style=\"text-align: right;\">  Re-offense</th><th>CI          </th><th style=\"text-align: right;\">  Next</th><th>CI          </th><th style=\"text-align: right;\">  End</th><th>CI        </th></tr>\n",
       "</thead>\n",
       "<tbody>\n",
       "<tr><td>AVOIDANCE                       </td><td style=\"text-align: right;\">       0.918</td><td>$\\pm$0.0066 </td><td style=\"text-align: right;\">  1.01</td><td>$\\pm$0.00557</td><td style=\"text-align: right;\"> 1.08</td><td>$\\pm$0.204</td></tr>\n",
       "<tr><td>AVOIDANCE+NAME                  </td><td style=\"text-align: right;\">       0.938</td><td>$\\pm$0.00821</td><td style=\"text-align: right;\">  1.02</td><td>$\\pm$0.0172 </td><td style=\"text-align: right;\"> 1.11</td><td>$\\pm$0.255</td></tr>\n",
       "<tr><td>AVOIDANCE+NAME+REDIRECT         </td><td style=\"text-align: right;\">       0.406</td><td>$\\pm$0.0167 </td><td style=\"text-align: right;\">  8.6 </td><td>$\\pm$0.809  </td><td style=\"text-align: right;\">16.3 </td><td>$\\pm$0.983</td></tr>\n",
       "<tr><td>AVOIDANCE+REDIRECT              </td><td style=\"text-align: right;\">       0.466</td><td>$\\pm$0.0119 </td><td style=\"text-align: right;\">  7.32</td><td>$\\pm$0.434  </td><td style=\"text-align: right;\">13.5 </td><td>$\\pm$0.582</td></tr>\n",
       "<tr><td>AVOIDANCE+REDIRECT (CONTEXTUAL) </td><td style=\"text-align: right;\">       0.465</td><td>$\\pm$0.0117 </td><td style=\"text-align: right;\">  6.89</td><td>$\\pm$0.373  </td><td style=\"text-align: right;\">12.8 </td><td>$\\pm$0.529</td></tr>\n",
       "<tr><td>COUNTER+REDIRECT (CONTEXTUAL)   </td><td style=\"text-align: right;\">       0.471</td><td>$\\pm$0.0116 </td><td style=\"text-align: right;\">  6.83</td><td>$\\pm$0.412  </td><td style=\"text-align: right;\">12.3 </td><td>$\\pm$0.617</td></tr>\n",
       "<tr><td>EMPATHETIC+REDIRECT (CONTEXTUAL)</td><td style=\"text-align: right;\">       0.432</td><td>$\\pm$0.0116 </td><td style=\"text-align: right;\">  6.72</td><td>$\\pm$0.366  </td><td style=\"text-align: right;\">13.1 </td><td>$\\pm$0.557</td></tr>\n",
       "<tr><td>WHY                             </td><td style=\"text-align: right;\">       0.952</td><td>$\\pm$0.00512</td><td style=\"text-align: right;\">  1.05</td><td>$\\pm$0.0312 </td><td style=\"text-align: right;\"> 1.09</td><td>$\\pm$0.326</td></tr>\n",
       "<tr><td>WHY+NAME                        </td><td style=\"text-align: right;\">       0.947</td><td>$\\pm$0.00772</td><td style=\"text-align: right;\">  1.33</td><td>$\\pm$0.321  </td><td style=\"text-align: right;\"> 2.41</td><td>$\\pm$1.53 </td></tr>\n",
       "</tbody>\n",
       "</table>"
      ],
      "text/plain": [
       "<IPython.core.display.HTML object>"
      ]
     },
     "metadata": {},
     "output_type": "display_data"
    },
    {
     "name": "stdout",
     "output_type": "stream",
     "text": [
      "\\begin{tabular}{lrlrlrl}\n",
      "\\hline\n",
      " Strategy                         &   Re-offense & CI           &   Next & CI           &   End & CI         \\\\\n",
      "\\hline\n",
      " AVOIDANCE                        &        0.918 & $\\pm$0.0066  &   1.01 & $\\pm$0.00557 &  1.08 & $\\pm$0.204 \\\\\n",
      " AVOIDANCE+NAME                   &        0.938 & $\\pm$0.00821 &   1.02 & $\\pm$0.0172  &  1.11 & $\\pm$0.255 \\\\\n",
      " AVOIDANCE+NAME+REDIRECT          &        0.406 & $\\pm$0.0167  &   8.6  & $\\pm$0.809   & 16.3  & $\\pm$0.983 \\\\\n",
      " AVOIDANCE+REDIRECT               &        0.466 & $\\pm$0.0119  &   7.32 & $\\pm$0.434   & 13.5  & $\\pm$0.582 \\\\\n",
      " AVOIDANCE+REDIRECT (CONTEXTUAL)  &        0.465 & $\\pm$0.0117  &   6.89 & $\\pm$0.373   & 12.8  & $\\pm$0.529 \\\\\n",
      " COUNTER+REDIRECT (CONTEXTUAL)    &        0.471 & $\\pm$0.0116  &   6.83 & $\\pm$0.412   & 12.3  & $\\pm$0.617 \\\\\n",
      " EMPATHETIC+REDIRECT (CONTEXTUAL) &        0.432 & $\\pm$0.0116  &   6.72 & $\\pm$0.366   & 13.1  & $\\pm$0.557 \\\\\n",
      " WHY                              &        0.952 & $\\pm$0.00512 &   1.05 & $\\pm$0.0312  &  1.09 & $\\pm$0.326 \\\\\n",
      " WHY+NAME                         &        0.947 & $\\pm$0.00772 &   1.33 & $\\pm$0.321   &  2.41 & $\\pm$1.53  \\\\\n",
      "\\hline\n",
      "\\end{tabular}\n"
     ]
    }
   ],
   "source": [
    "def gen_table(strats, derived_data):\n",
    "    headers = ['Strategy', 'Re-offense', 'CI', 'Next', 'CI', 'End', 'CI']\n",
    "    rows = []\n",
    "    for s in strats:\n",
    "        rows.append([\n",
    "            s,\n",
    "            '{:.3g}'.format(np.mean(derived_data[s]['reoffend'])),\n",
    "            '$\\pm${:.3g}'.format(np.std(derived_data[s]['reoffend']) / np.sqrt(len(derived_data[s]['reoffend']))),\n",
    "            '{:.3g}'.format(np.mean(derived_data[s]['turns_til_next'])),\n",
    "            '$\\pm${:.3g}'.format(np.std(derived_data[s]['turns_til_next']) / np.sqrt(len(derived_data[s]['turns_til_next']))),\n",
    "            '{:.3g}'.format(np.mean(derived_data[s]['turns_til_end'])),\n",
    "            '$\\pm${:.3g}'.format(np.std(derived_data[s]['turns_til_end']) / np.sqrt(len(derived_data[s]['turns_til_end'])))\n",
    "        ])\n",
    "    display(HTML(tabulate(rows, headers=headers, tablefmt='html')))\n",
    "    latex_code = tabulate(rows, headers=headers, tablefmt='latex_raw')\n",
    "    return latex_code\n",
    "\n",
    "latex_code = gen_table(strategies, derived_data)\n",
    "print(latex_code)"
   ]
  },
  {
   "cell_type": "markdown",
   "metadata": {},
   "source": [
    "### Part 1.1 Reoffense Ratio (a.k.a. Reoffense)\n",
    "\n",
    "We first summarizes the reoffense ratio of every strategy. Then, we analyze the pair-wise comparisons of reoffense ratios and test the hypothesis that different pairs of strategies are have the same ratio"
   ]
  },
  {
   "cell_type": "code",
   "execution_count": 13,
   "metadata": {},
   "outputs": [
    {
     "data": {
      "text/plain": [
       "{'mean0': 0.4661739624786811,\n",
       " 'se0': 0.011894356829214197,\n",
       " 'mean1': 0.4316427783902977,\n",
       " 'se1': 0.011629319158359668,\n",
       " 'mean_diff_0_1': -0.034531184088383404,\n",
       " 'p_value_0_1': 0.03801290618600518,\n",
       " 'or': 0.9259263990104069,\n",
       " 'or_confint': (0.8229775802044167, 1.0417534049608348),\n",
       " 'or_p': 0.20062972280131564}"
      ]
     },
     "execution_count": 13,
     "metadata": {},
     "output_type": "execute_result"
    }
   ],
   "source": [
    "def get_paired_statistic(derived_data, stat, *strats):\n",
    "    assert len(strats) > 1, 'must have more than 2 strats for comparison'\n",
    "    strats_data = [derived_data[strat][stat] for strat in strats]\n",
    "    statistic = {}\n",
    "    for i, strat_data in enumerate(strats_data):\n",
    "        statistic[f'mean{i}'] = np.mean(strat_data)\n",
    "        statistic[f'se{i}'] = np.std(strat_data) / np.sqrt(len(strat_data))\n",
    "        if i > 0:\n",
    "            statistic[f'mean_diff_0_{i}'] = np.mean(strat_data) - np.mean(strats_data[0])\n",
    "            statistic[f'p_value_0_{i}'] = ttest_ind(strats_data[0], strat_data).pvalue\n",
    "            if all(elem in [0, 1] for elem in strat_data):\n",
    "                a, b = np.sum(strats_data[0]), len(strats_data[0])\n",
    "                c, d = np.sum(strat_data), len(strat_data)\n",
    "                tab = Table2x2([[c, d], [a, b]])\n",
    "                statistic['or'] = tab.oddsratio\n",
    "                statistic['or_confint'] = tab.oddsratio_confint()\n",
    "                statistic['or_p'] = tab.oddsratio_pvalue(1)\n",
    "            else:\n",
    "                s = np.sqrt(((len(strats_data[0]) - 1) * np.var(strats_data[0]) \n",
    "                              + (len(strat_data) - 1) * np.var(strat_data)) / \n",
    "                            (len(strats_data[0]) + len(strat_data) - 2))\n",
    "                d = (np.mean(strat_data) - np.mean(strats_data[0])) / s\n",
    "                statistic['cohens_d'] = d\n",
    "            \n",
    "    return statistic\n",
    "\n",
    "get_paired_statistic(derived_data, 'reoffend', 'AVOIDANCE+REDIRECT', 'EMPATHETIC+REDIRECT (CONTEXTUAL)')\n",
    "# get_paired_statistic(derived_data, 'turns_til_next', 'AVOIDANCE', 'AVOIDANCE+REDIRECT')"
   ]
  },
  {
   "cell_type": "code",
   "execution_count": 14,
   "metadata": {},
   "outputs": [
    {
     "data": {
      "image/png": "[encoded data removed]",
      "text/plain": [
       "<Figure size 432x288 with 1 Axes>"
      ]
     },
     "metadata": {
      "needs_background": "light"
     },
     "output_type": "display_data"
    }
   ],
   "source": [
    "statistics = get_paired_statistic(derived_data, 'reoffend', *strategies)\n",
    "y = np.array([statistics[f'mean{i}'] for i, _ in enumerate(strategies)])\n",
    "err = np.array([statistics[f'se{i}'] for i, _ in enumerate(strategies)])\n",
    "yticks = np.array(strategies)\n",
    "sort_order = np.flip(np.argsort(y))\n",
    "y, err, yticks = y[sort_order], err[sort_order], yticks[sort_order]\n",
    "\n",
    "title = 'Re-offense Ratio'\n",
    "plt.figure(figsize=(6, 4))\n",
    "plt.errorbar(y, np.arange(len(y)), xerr=err, fmt='o', capsize=5)\n",
    "plt.xticks(np.arange(0, 1.1, 0.2))\n",
    "plt.yticks(np.arange(len(y)), yticks)\n",
    "# plt.title(title)\n",
    "plt.xlabel('Reoffense Ratio')\n",
    "plt.ylabel('Response Strategy')\n",
    "plt.tight_layout()\n",
    "plt.savefig(os.path.join('plot', title.replace(' ', '_').lower() + '.png'))"
   ]
  },
  {
   "cell_type": "markdown",
   "metadata": {
    "colab_type": "text",
    "id": "VjKUpK3qY7ur"
   },
   "source": [
    "As we can see from the plot above, the why strategies performs the worst out of all the strategies. Then, we can see that prompt strategies perform much better than strategies without a prompt. We also see that a generic avoidance strategy that uses user's names and a prompt perform the best out of all the strategies tried."
   ]
  },
  {
   "cell_type": "markdown",
   "metadata": {
    "colab_type": "text",
    "id": "Gb34SM-n9hnR"
   },
   "source": [
    "### Part 1.1.1 Significance Analysis on the Re-offense Ratio (a.k.a. Reoffense)\n",
    "\n",
    "Here we run several one way F-test to test the null hypothesis that the reoffense ratio is the same between 2 experiments."
   ]
  },
  {
   "cell_type": "code",
   "execution_count": 15,
   "metadata": {
    "colab": {},
    "colab_type": "code",
    "id": "_YlXMiAQU5RI"
   },
   "outputs": [],
   "source": [
    "def gen_table(derived_data, groups_of_strats, show_insig=True):\n",
    "    headers = ['', 'Base', 'Reoffense', 'Alternative', 'Reoffense', 'Delta', 'p', 'or', 'or_conf']\n",
    "    rows = []\n",
    "    for strats in groups_of_strats:\n",
    "        statistics = get_paired_statistic(derived_data, 'reoffend', *strats)\n",
    "        for i in range(1, len(strats)):\n",
    "            if statistics[f'p_value_0_{i}'] < 0.05 or show_insig:\n",
    "#                 print(statistics['or_p'])\n",
    "                rows.append([\n",
    "                    len(rows) + 1,\n",
    "                    strats[0].replace(' (CONTEXTUAL)', '*'), \"{:.3f}\".format(statistics[f'mean0']),\n",
    "                    strats[i].replace(' (CONTEXTUAL)', '*'), \"{:.3f}\".format(statistics[f'mean{i}']),\n",
    "                    \"\\\\textbf{{{:.3f}}}\".format(statistics[f'mean_diff_0_{i}']) \\\n",
    "                        if statistics[f'p_value_0_{i}'] < 0.05 / 4 \\\n",
    "                        else \"{:.3f}\".format(statistics[f'mean_diff_0_{i}']), \n",
    "                    \"{:.3g}\".format(statistics[f'p_value_0_{i}']) \\\n",
    "                        if statistics[f'p_value_0_{i}'] > 1e-10 else \"$<$ 1e-10\",\n",
    "                    \"\\\\textbf{{{:.3f}}}\".format(statistics['or']) \\\n",
    "                        if statistics[f'or_p'] < 0.05 \\\n",
    "                        else \"{:.3f}\".format(statistics['or']), \n",
    "                    [\"{:.3g}\".format(confint) for confint in statistics['or_confint']],\n",
    "                ])\n",
    "    display(HTML(tabulate(rows, headers=headers, tablefmt='html')))\n",
    "    rows = [[row[0]] + [\"\\\\texttt{\" + row[1] + \"}\"] + [row[2]] + [\"\\\\texttt{\" + row[3] + \"}\"] + row[4:]\n",
    "            for row in rows]\n",
    "    latex_code = tabulate(rows, headers=headers, tablefmt='latex_raw')\n",
    "    return latex_code"
   ]
  },
  {
   "cell_type": "markdown",
   "metadata": {
    "colab_type": "text",
    "id": "tKP6Eh2e9tPX"
   },
   "source": [
    "#### a. PROMPT Strategies\n",
    "\n",
    "We test strategies with (prompt) in them vs (no prompt) in them"
   ]
  },
  {
   "cell_type": "code",
   "execution_count": 16,
   "metadata": {
    "colab": {
     "base_uri": "https://localhost:8080/",
     "height": 309
    },
    "colab_type": "code",
    "executionInfo": {
     "elapsed": 759,
     "status": "ok",
     "timestamp": 1598128599503,
     "user": {
      "displayName": "Dilara Soylu",
      "photoUrl": "https://lh3.googleusercontent.com/a-/AOh14GiXeL-5Vw_8gkALE3ENrTi7S16sbiQMtLdVxgfF=s64",
      "userId": "16568250040983174278"
     },
     "user_tz": 420
    },
    "id": "8h_E5hxwU5RK",
    "outputId": "a71871e4-d868-497e-fb83-ed4ead8dec36"
   },
   "outputs": [
    {
     "data": {
      "text/html": [
       "<table>\n",
       "<thead>\n",
       "<tr><th style=\"text-align: right;\">  </th><th>Base          </th><th style=\"text-align: right;\">  Reoffense</th><th>Alternative            </th><th style=\"text-align: right;\">  Reoffense</th><th>Delta          </th><th>p        </th><th>or            </th><th>or_conf           </th></tr>\n",
       "</thead>\n",
       "<tbody>\n",
       "<tr><td style=\"text-align: right;\"> 1</td><td>AVOIDANCE     </td><td style=\"text-align: right;\">      0.918</td><td>AVOIDANCE+REDIRECT     </td><td style=\"text-align: right;\">      0.466</td><td>\\textbf{-0.452}</td><td>$&lt;$ 1e-10</td><td>\\textbf{0.508}</td><td>[&#x27;0.456&#x27;, &#x27;0.565&#x27;]</td></tr>\n",
       "<tr><td style=\"text-align: right;\"> 2</td><td>AVOIDANCE+NAME</td><td style=\"text-align: right;\">      0.938</td><td>AVOIDANCE+NAME+REDIRECT</td><td style=\"text-align: right;\">      0.406</td><td>\\textbf{-0.532}</td><td>$&lt;$ 1e-10</td><td>\\textbf{0.433}</td><td>[&#x27;0.37&#x27;, &#x27;0.506&#x27;] </td></tr>\n",
       "</tbody>\n",
       "</table>"
      ],
      "text/plain": [
       "<IPython.core.display.HTML object>"
      ]
     },
     "metadata": {},
     "output_type": "display_data"
    }
   ],
   "source": [
    "latex_code = gen_table(derived_data, \n",
    "        [('AVOIDANCE', 'AVOIDANCE+REDIRECT'), ('AVOIDANCE+NAME', 'AVOIDANCE+NAME+REDIRECT')])\n",
    "# print(latex_code)"
   ]
  },
  {
   "cell_type": "markdown",
   "metadata": {
    "colab_type": "text",
    "id": "fi2KzkMf96vf"
   },
   "source": [
    "The above tests show that, controling response types and user names, using prompt has statistically significant improvements over not using prompts. This means that when given a prompt, user are much more likely to end the abuse, either by stopping the conversation right away or by re-engaging the bot with a different topic. However, when looking at the previous analysis on turns until the next reoffense, we see that it also significantly delays reoffenses, which means that even when user do offend again, they actually re-engage with the conversation before eventually giving up. \n",
    "\n",
    "This validates previous papers where users will often be frustrated when we are unable to perform a task (in this case, talk about something that user wants to talk about, namely sexual topics), but at the same time give us a chance to recover from such failure. With no-prompt strategies, we made no attempt to recover from such a failure, and thus user become more angry and frustrated. However, with prompt strategies, we made a deliberate attempt to recover from such failure and we see that user recognized our attempt and either accepted the new topic for the rest of the conversation, or until our conversation falls apart again. This suggests that social bots should always make an attempt to not only passively avoid such topics, but actively redirect the conversation into a topic that also interests the user."
   ]
  },
  {
   "cell_type": "markdown",
   "metadata": {
    "colab_type": "text",
    "id": "SbQMipPP-Jyx"
   },
   "source": [
    "#### b. NAME Strategies"
   ]
  },
  {
   "cell_type": "code",
   "execution_count": 17,
   "metadata": {
    "colab": {
     "base_uri": "https://localhost:8080/",
     "height": 388
    },
    "colab_type": "code",
    "executionInfo": {
     "elapsed": 630,
     "status": "ok",
     "timestamp": 1598128647482,
     "user": {
      "displayName": "Dilara Soylu",
      "photoUrl": "https://lh3.googleusercontent.com/a-/AOh14GiXeL-5Vw_8gkALE3ENrTi7S16sbiQMtLdVxgfF=s64",
      "userId": "16568250040983174278"
     },
     "user_tz": 420
    },
    "id": "4yByNwnxU5RN",
    "outputId": "62429366-09b9-4294-ddf9-95943de0ac30"
   },
   "outputs": [
    {
     "data": {
      "text/html": [
       "<table>\n",
       "<thead>\n",
       "<tr><th style=\"text-align: right;\">  </th><th>Base              </th><th style=\"text-align: right;\">  Reoffense</th><th>Alternative            </th><th style=\"text-align: right;\">  Reoffense</th><th>Delta          </th><th style=\"text-align: right;\">      p</th><th style=\"text-align: right;\">   or</th><th>or_conf          </th></tr>\n",
       "</thead>\n",
       "<tbody>\n",
       "<tr><td style=\"text-align: right;\"> 1</td><td>AVOIDANCE+REDIRECT</td><td style=\"text-align: right;\">      0.466</td><td>AVOIDANCE+NAME+REDIRECT</td><td style=\"text-align: right;\">      0.406</td><td>\\textbf{-0.060}</td><td style=\"text-align: right;\">0.00351</td><td style=\"text-align: right;\">0.871</td><td>[&#x27;0.75&#x27;, &#x27;1.01&#x27;] </td></tr>\n",
       "<tr><td style=\"text-align: right;\"> 2</td><td>AVOIDANCE         </td><td style=\"text-align: right;\">      0.918</td><td>AVOIDANCE+NAME         </td><td style=\"text-align: right;\">      0.938</td><td>0.020          </td><td style=\"text-align: right;\">0.0758 </td><td style=\"text-align: right;\">1.021</td><td>[&#x27;0.908&#x27;, &#x27;1.15&#x27;]</td></tr>\n",
       "<tr><td style=\"text-align: right;\"> 3</td><td>WHY               </td><td style=\"text-align: right;\">      0.952</td><td>WHY+NAME               </td><td style=\"text-align: right;\">      0.947</td><td>-0.004         </td><td style=\"text-align: right;\">0.646  </td><td style=\"text-align: right;\">0.996</td><td>[&#x27;0.885&#x27;, &#x27;1.12&#x27;]</td></tr>\n",
       "</tbody>\n",
       "</table>"
      ],
      "text/plain": [
       "<IPython.core.display.HTML object>"
      ]
     },
     "metadata": {},
     "output_type": "display_data"
    }
   ],
   "source": [
    "latex_code = gen_table(derived_data, [('AVOIDANCE+REDIRECT', 'AVOIDANCE+NAME+REDIRECT'), \n",
    "                           ('AVOIDANCE', 'AVOIDANCE+NAME'), \n",
    "                           ('WHY', 'WHY+NAME')])\n",
    "# print(latex_code)"
   ]
  },
  {
   "cell_type": "markdown",
   "metadata": {
    "colab_type": "text",
    "id": "0wuSfXk6-XMj"
   },
   "source": [
    "We can see from the table above that using user's name is only effective when used together with a prompt. This is in line with the previous section where we found that the interaction term between prompt and name is small but significant. This means that using users' names does not stop the offenses directly, but rather compel the user to follow the new direction that we propose. This suggests that when the user's name is available, it is better to use it together with a prompt. "
   ]
  },
  {
   "cell_type": "markdown",
   "metadata": {
    "colab_type": "text",
    "id": "4Wq7gQfsU5RO"
   },
   "source": [
    "#### c. WHY Strategy"
   ]
  },
  {
   "cell_type": "code",
   "execution_count": 18,
   "metadata": {
    "colab": {
     "base_uri": "https://localhost:8080/",
     "height": 309
    },
    "colab_type": "code",
    "executionInfo": {
     "elapsed": 1159,
     "status": "ok",
     "timestamp": 1598128693865,
     "user": {
      "displayName": "Dilara Soylu",
      "photoUrl": "https://lh3.googleusercontent.com/a-/AOh14GiXeL-5Vw_8gkALE3ENrTi7S16sbiQMtLdVxgfF=s64",
      "userId": "16568250040983174278"
     },
     "user_tz": 420
    },
    "id": "LvSLILArU5RO",
    "outputId": "a584593b-1842-4e7b-d207-b7cfb506c4ce"
   },
   "outputs": [
    {
     "data": {
      "text/html": [
       "<table>\n",
       "<thead>\n",
       "<tr><th style=\"text-align: right;\">  </th><th>Base          </th><th style=\"text-align: right;\">  Reoffense</th><th>Alternative  </th><th style=\"text-align: right;\">  Reoffense</th><th>Delta         </th><th style=\"text-align: right;\">       p</th><th style=\"text-align: right;\">   or</th><th>or_conf          </th></tr>\n",
       "</thead>\n",
       "<tbody>\n",
       "<tr><td style=\"text-align: right;\"> 1</td><td>AVOIDANCE+NAME</td><td style=\"text-align: right;\">      0.938</td><td>WHY+NAME     </td><td style=\"text-align: right;\">      0.947</td><td>0.010         </td><td style=\"text-align: right;\">0.393   </td><td style=\"text-align: right;\">1.01 </td><td>[&#x27;0.881&#x27;, &#x27;1.16&#x27;]</td></tr>\n",
       "<tr><td style=\"text-align: right;\"> 2</td><td>AVOIDANCE     </td><td style=\"text-align: right;\">      0.918</td><td>WHY          </td><td style=\"text-align: right;\">      0.952</td><td>\\textbf{0.033}</td><td style=\"text-align: right;\">6.49e-05</td><td style=\"text-align: right;\">1.036</td><td>[&#x27;0.942&#x27;, &#x27;1.14&#x27;]</td></tr>\n",
       "</tbody>\n",
       "</table>"
      ],
      "text/plain": [
       "<IPython.core.display.HTML object>"
      ]
     },
     "metadata": {},
     "output_type": "display_data"
    }
   ],
   "source": [
    "latex_code = gen_table(derived_data, [('AVOIDANCE+NAME', 'WHY+NAME'), ('AVOIDANCE', 'WHY')])\n",
    "# print(latex_code)"
   ]
  },
  {
   "cell_type": "markdown",
   "metadata": {
    "colab_type": "text",
    "id": "3jhM-UTlY7vU"
   },
   "source": [
    "As we can see from the table above, using hte why strategy actually had a significant 3\\% increase in reoffend rate, while there is no significant difference when used together with user's names. This suggests that our original hypothesis that asking user why they said what they said would give them time to reflect on their behavior is false. Rather, we actually invited more abuse by asking the user to justify their abuse. This further validates the hypothesis that it is much better to move on quickly to a new topic. This suggests that social bots should always switch topic as fast as possible."
   ]
  },
  {
   "cell_type": "markdown",
   "metadata": {
    "colab_type": "text",
    "id": "DiK8h6OU-9PF"
   },
   "source": [
    "#### d. CONTEXTUAL Strategies"
   ]
  },
  {
   "cell_type": "code",
   "execution_count": 19,
   "metadata": {
    "colab": {
     "base_uri": "https://localhost:8080/",
     "height": 269
    },
    "colab_type": "code",
    "executionInfo": {
     "elapsed": 806,
     "status": "ok",
     "timestamp": 1598128726379,
     "user": {
      "displayName": "Dilara Soylu",
      "photoUrl": "https://lh3.googleusercontent.com/a-/AOh14GiXeL-5Vw_8gkALE3ENrTi7S16sbiQMtLdVxgfF=s64",
      "userId": "16568250040983174278"
     },
     "user_tz": 420
    },
    "id": "WQtx3qM9U5RQ",
    "outputId": "5688f500-f121-4da4-9736-cf255252d180"
   },
   "outputs": [
    {
     "data": {
      "text/html": [
       "<table>\n",
       "<thead>\n",
       "<tr><th style=\"text-align: right;\">  </th><th>Base              </th><th style=\"text-align: right;\">  Reoffense</th><th>Alternative         </th><th style=\"text-align: right;\">  Reoffense</th><th style=\"text-align: right;\">  Delta</th><th style=\"text-align: right;\">    p</th><th style=\"text-align: right;\">   or</th><th>or_conf          </th></tr>\n",
       "</thead>\n",
       "<tbody>\n",
       "<tr><td style=\"text-align: right;\"> 1</td><td>AVOIDANCE+REDIRECT</td><td style=\"text-align: right;\">      0.466</td><td>COUNTER+REDIRECT*   </td><td style=\"text-align: right;\">      0.471</td><td style=\"text-align: right;\">  0.005</td><td style=\"text-align: right;\">0.786</td><td style=\"text-align: right;\">1.01 </td><td>[&#x27;0.9&#x27;, &#x27;1.13&#x27;]  </td></tr>\n",
       "<tr><td style=\"text-align: right;\"> 2</td><td>AVOIDANCE+REDIRECT</td><td style=\"text-align: right;\">      0.466</td><td>EMPATHETIC+REDIRECT*</td><td style=\"text-align: right;\">      0.432</td><td style=\"text-align: right;\"> -0.035</td><td style=\"text-align: right;\">0.038</td><td style=\"text-align: right;\">0.926</td><td>[&#x27;0.823&#x27;, &#x27;1.04&#x27;]</td></tr>\n",
       "</tbody>\n",
       "</table>"
      ],
      "text/plain": [
       "<IPython.core.display.HTML object>"
      ]
     },
     "metadata": {},
     "output_type": "display_data"
    }
   ],
   "source": [
    "latex_code = gen_table(derived_data, [('AVOIDANCE+REDIRECT', 'COUNTER+REDIRECT (CONTEXTUAL)'), \n",
    "                           ('AVOIDANCE+REDIRECT', 'EMPATHETIC+REDIRECT (CONTEXTUAL)')])\n",
    "# print(latex_code)"
   ]
  },
  {
   "cell_type": "markdown",
   "metadata": {
    "colab_type": "text",
    "id": "xtG0VfEu_kca"
   },
   "source": [
    "As we can see form the table above, there is a significant 6\\% reduction in reoffend rate when using the empathetic strategy together with a prompt. This is in line with previous research CITE HERE that empathetic responses performs better than other types of responses. "
   ]
  },
  {
   "cell_type": "markdown",
   "metadata": {
    "colab_type": "text",
    "id": "5LAaXXMWTeks"
   },
   "source": [
    "#### e. Master table\n",
    "\n",
    "Here we generate the final table that is used in our paper. It is a single table containing all the sub tables above"
   ]
  },
  {
   "cell_type": "code",
   "execution_count": 20,
   "metadata": {
    "colab": {},
    "colab_type": "code",
    "id": "EP72Z9cUTekt",
    "outputId": "c28ffe9a-149f-41eb-e107-76cb7f57ace5"
   },
   "outputs": [
    {
     "data": {
      "text/html": [
       "<table>\n",
       "<thead>\n",
       "<tr><th style=\"text-align: right;\">  </th><th>Base              </th><th style=\"text-align: right;\">  Reoffense</th><th>Alternative            </th><th style=\"text-align: right;\">  Reoffense</th><th>Delta          </th><th>p        </th><th>or            </th><th>or_conf           </th></tr>\n",
       "</thead>\n",
       "<tbody>\n",
       "<tr><td style=\"text-align: right;\"> 1</td><td>AVOIDANCE         </td><td style=\"text-align: right;\">      0.918</td><td>AVOIDANCE+REDIRECT     </td><td style=\"text-align: right;\">      0.466</td><td>\\textbf{-0.452}</td><td>$&lt;$ 1e-10</td><td>\\textbf{0.508}</td><td>[&#x27;0.456&#x27;, &#x27;0.565&#x27;]</td></tr>\n",
       "<tr><td style=\"text-align: right;\"> 2</td><td>AVOIDANCE+NAME    </td><td style=\"text-align: right;\">      0.938</td><td>AVOIDANCE+NAME+REDIRECT</td><td style=\"text-align: right;\">      0.406</td><td>\\textbf{-0.532}</td><td>$&lt;$ 1e-10</td><td>\\textbf{0.433}</td><td>[&#x27;0.37&#x27;, &#x27;0.506&#x27;] </td></tr>\n",
       "<tr><td style=\"text-align: right;\"> 3</td><td>AVOIDANCE+REDIRECT</td><td style=\"text-align: right;\">      0.466</td><td>AVOIDANCE+NAME+REDIRECT</td><td style=\"text-align: right;\">      0.406</td><td>\\textbf{-0.060}</td><td>0.00351  </td><td>0.871         </td><td>[&#x27;0.75&#x27;, &#x27;1.01&#x27;]  </td></tr>\n",
       "<tr><td style=\"text-align: right;\"> 4</td><td>AVOIDANCE         </td><td style=\"text-align: right;\">      0.918</td><td>AVOIDANCE+NAME         </td><td style=\"text-align: right;\">      0.938</td><td>0.020          </td><td>0.0758   </td><td>1.021         </td><td>[&#x27;0.908&#x27;, &#x27;1.15&#x27;] </td></tr>\n",
       "<tr><td style=\"text-align: right;\"> 5</td><td>WHY               </td><td style=\"text-align: right;\">      0.952</td><td>WHY+NAME               </td><td style=\"text-align: right;\">      0.947</td><td>-0.004         </td><td>0.646    </td><td>0.996         </td><td>[&#x27;0.885&#x27;, &#x27;1.12&#x27;] </td></tr>\n",
       "<tr><td style=\"text-align: right;\"> 6</td><td>AVOIDANCE+NAME    </td><td style=\"text-align: right;\">      0.938</td><td>WHY+NAME               </td><td style=\"text-align: right;\">      0.947</td><td>0.010          </td><td>0.393    </td><td>1.010         </td><td>[&#x27;0.881&#x27;, &#x27;1.16&#x27;] </td></tr>\n",
       "<tr><td style=\"text-align: right;\"> 7</td><td>AVOIDANCE         </td><td style=\"text-align: right;\">      0.918</td><td>WHY                    </td><td style=\"text-align: right;\">      0.952</td><td>\\textbf{0.033} </td><td>6.49e-05 </td><td>1.036         </td><td>[&#x27;0.942&#x27;, &#x27;1.14&#x27;] </td></tr>\n",
       "<tr><td style=\"text-align: right;\"> 8</td><td>AVOIDANCE+REDIRECT</td><td style=\"text-align: right;\">      0.466</td><td>COUNTER+REDIRECT*      </td><td style=\"text-align: right;\">      0.471</td><td>0.005          </td><td>0.786    </td><td>1.010         </td><td>[&#x27;0.9&#x27;, &#x27;1.13&#x27;]   </td></tr>\n",
       "<tr><td style=\"text-align: right;\"> 9</td><td>AVOIDANCE+REDIRECT</td><td style=\"text-align: right;\">      0.466</td><td>EMPATHETIC+REDIRECT*   </td><td style=\"text-align: right;\">      0.432</td><td>-0.035         </td><td>0.038    </td><td>0.926         </td><td>[&#x27;0.823&#x27;, &#x27;1.04&#x27;] </td></tr>\n",
       "</tbody>\n",
       "</table>"
      ],
      "text/plain": [
       "<IPython.core.display.HTML object>"
      ]
     },
     "metadata": {},
     "output_type": "display_data"
    },
    {
     "name": "stdout",
     "output_type": "stream",
     "text": [
      "\\begin{tabular}{rlrlrllll}\n",
      "\\hline\n",
      "    & Base                        &   Reoffense & Alternative                      &   Reoffense & Delta           & p         & or             & or_conf            \\\\\n",
      "\\hline\n",
      "  1 & \\texttt{AVOIDANCE}          &       0.918 & \\texttt{AVOIDANCE+REDIRECT}      &       0.466 & \\textbf{-0.452} & $<$ 1e-10 & \\textbf{0.508} & ['0.456', '0.565'] \\\\\n",
      "  2 & \\texttt{AVOIDANCE+NAME}     &       0.938 & \\texttt{AVOIDANCE+NAME+REDIRECT} &       0.406 & \\textbf{-0.532} & $<$ 1e-10 & \\textbf{0.433} & ['0.37', '0.506']  \\\\\n",
      "  3 & \\texttt{AVOIDANCE+REDIRECT} &       0.466 & \\texttt{AVOIDANCE+NAME+REDIRECT} &       0.406 & \\textbf{-0.060} & 0.00351   & 0.871          & ['0.75', '1.01']   \\\\\n",
      "  4 & \\texttt{AVOIDANCE}          &       0.918 & \\texttt{AVOIDANCE+NAME}          &       0.938 & 0.020           & 0.0758    & 1.021          & ['0.908', '1.15']  \\\\\n",
      "  5 & \\texttt{WHY}                &       0.952 & \\texttt{WHY+NAME}                &       0.947 & -0.004          & 0.646     & 0.996          & ['0.885', '1.12']  \\\\\n",
      "  6 & \\texttt{AVOIDANCE+NAME}     &       0.938 & \\texttt{WHY+NAME}                &       0.947 & 0.010           & 0.393     & 1.010          & ['0.881', '1.16']  \\\\\n",
      "  7 & \\texttt{AVOIDANCE}          &       0.918 & \\texttt{WHY}                     &       0.952 & \\textbf{0.033}  & 6.49e-05  & 1.036          & ['0.942', '1.14']  \\\\\n",
      "  8 & \\texttt{AVOIDANCE+REDIRECT} &       0.466 & \\texttt{COUNTER+REDIRECT*}       &       0.471 & 0.005           & 0.786     & 1.010          & ['0.9', '1.13']    \\\\\n",
      "  9 & \\texttt{AVOIDANCE+REDIRECT} &       0.466 & \\texttt{EMPATHETIC+REDIRECT*}    &       0.432 & -0.035          & 0.038     & 0.926          & ['0.823', '1.04']  \\\\\n",
      "\\hline\n",
      "\\end{tabular}\n"
     ]
    }
   ],
   "source": [
    "latex_code = gen_table(derived_data, [('AVOIDANCE', 'AVOIDANCE+REDIRECT'), \n",
    "                           ('AVOIDANCE+NAME', 'AVOIDANCE+NAME+REDIRECT'),\n",
    "                           ('AVOIDANCE+REDIRECT', 'AVOIDANCE+NAME+REDIRECT'), \n",
    "                           ('AVOIDANCE', 'AVOIDANCE+NAME'), \n",
    "                           ('WHY', 'WHY+NAME'),\n",
    "                           ('AVOIDANCE+NAME', 'WHY+NAME'), \n",
    "                           ('AVOIDANCE', 'WHY'),\n",
    "                           ('AVOIDANCE+REDIRECT', 'COUNTER+REDIRECT (CONTEXTUAL)'), \n",
    "                           ('AVOIDANCE+REDIRECT', 'EMPATHETIC+REDIRECT (CONTEXTUAL)')\n",
    "                          ])\n",
    "print(latex_code)"
   ]
  },
  {
   "cell_type": "markdown",
   "metadata": {
    "colab_type": "text",
    "id": "69KzhkjfY7va"
   },
   "source": [
    "#### Take-aways\n",
    "\n",
    "All the analysis above validates several of our hypothesis while disapproving others. To summarize, here are the insights that we derived\n",
    "\n",
    "1. Social bots should always suggest a new topic of discussion whenever possible. Staying in the same topic by asking why or simply not suggesting a new topic is not only seen as a failure of handling such responses but also does not give user \"a way out\" of the abuse. Actively redirecting the conversation is not only effective but also necessary comparing to passively stopping abuse.\n",
    "2. Using user's names does not have significant impact on stopping abuse directly, but it compels the user to follow a new direction when given, suggesting that it contributes to stopping abuse when used together with a prompt\n",
    "3. Base strategies matter. The contextual empathetic strategy performs better than other strategies."
   ]
  },
  {
   "cell_type": "markdown",
   "metadata": {
    "colab_type": "text",
    "id": "xo7CACa0Mb6g"
   },
   "source": [
    "### Part 1.2 Average Number of Turns Until the Next Re-offense (a.k.a. Next)\n",
    "\n",
    "Assuming that the user did reoffend, does different strategy help in delaying that reoffense? We measure this by averaging the number of turns until the next re-offense. The longer we are able to delay the reoffense the more successful the strategy is in mitigating offensive behavior."
   ]
  },
  {
   "cell_type": "code",
   "execution_count": 21,
   "metadata": {
    "colab": {},
    "colab_type": "code",
    "id": "81JbabTlTejN",
    "outputId": "2c0eb1e2-c6e4-428a-b74c-6e9add53d3b0"
   },
   "outputs": [
    {
     "data": {
      "image/png": "[encoded data removed]",
      "text/plain": [
       "<Figure size 432x288 with 1 Axes>"
      ]
     },
     "metadata": {
      "needs_background": "light"
     },
     "output_type": "display_data"
    }
   ],
   "source": [
    "x_lim = 20\n",
    "ys = []\n",
    "for strategy in strategies:\n",
    "    y = np.zeros(x_lim)\n",
    "    c = Counter(derived_data[strategy]['turns_til_next'])\n",
    "    for turn_idx, count in sorted(c.items(), key=lambda tup: tup[0]):\n",
    "        if turn_idx < x_lim and turn_idx > 0:\n",
    "            y[turn_idx] = count\n",
    "    ys = ys + [y]\n",
    "plt.figure(figsize=(6, 4))\n",
    "for y in ys:\n",
    "    plt.plot(np.cumsum(y) / np.sum(y), '-')\n",
    "plt.xlim(-1, x_lim-1)\n",
    "plt.xticks(np.arange(0, x_lim))\n",
    "plt.yticks(np.arange(0, 1, 0.1))\n",
    "plt.legend(strategies)\n",
    "plt.xlabel('Turn Offset from Initial Offense')\n",
    "plt.ylabel('Percentage of Occurances of the Next Offense')\n",
    "plt.savefig('cumulative_plot_next_offense.png')"
   ]
  },
  {
   "cell_type": "markdown",
   "metadata": {
    "colab_type": "text",
    "id": "uxIvbvmoq6Ia"
   },
   "source": [
    "The above is a cumulative plot of percentage of occurances of the next offense against the offset of that offense from the initial offense. For example, we can see that 65\\% of conversations in which we responded to the initial offense with the `COUNTER+REDIRECT (CONTEXTUAL)` strategy have offended within 2 turns. Turn index 0 is artificially set to 0 since no repeated offenses has occured at offset 0. \n",
    "\n",
    "As we can see, the flatter the curve the more effective the strategy, since it means that the strategy is able to delay the offense by more turns. We can easily see that, during almost all conversations, user will re-offend immediately after given the responses without a prompt. Though the effectiveness of other strategies are unclear, it seems tho `AVOIDANCE+NAME+REDIRECT` and `EMPATHETIC+REDIRECT (CONTEXTUAL)` strategies perform slightly better than other strategies in delaying the reoffense "
   ]
  },
  {
   "cell_type": "code",
   "execution_count": 22,
   "metadata": {
    "colab": {
     "base_uri": "https://localhost:8080/",
     "height": 461
    },
    "colab_type": "code",
    "executionInfo": {
     "elapsed": 970,
     "status": "ok",
     "timestamp": 1598106802632,
     "user": {
      "displayName": "Dilara Soylu",
      "photoUrl": "https://lh3.googleusercontent.com/a-/AOh14GiXeL-5Vw_8gkALE3ENrTi7S16sbiQMtLdVxgfF=s64",
      "userId": "16568250040983174278"
     },
     "user_tz": 420
    },
    "id": "3EUP_FmVhUoa",
    "outputId": "a91fbad2-e1f0-42a1-b8d5-76a45903de68"
   },
   "outputs": [
    {
     "data": {
      "image/png": "[encoded data removed]",
      "text/plain": [
       "<Figure size 432x288 with 1 Axes>"
      ]
     },
     "metadata": {
      "needs_background": "light"
     },
     "output_type": "display_data"
    }
   ],
   "source": [
    "# All strategies plot\n",
    "\n",
    "statistics = get_paired_statistic(derived_data, 'turns_til_next', *strategies)\n",
    "y = np.array([statistics[f'mean{i}'] for i, _ in enumerate(strategies)])\n",
    "err = np.array([statistics[f'se{i}'] for i, _ in enumerate(strategies)])\n",
    "yticks = np.array(strategies)\n",
    "sort_order = np.argsort(y)\n",
    "y, err, yticks = y[sort_order], err[sort_order], yticks[sort_order]\n",
    "\n",
    "title = 'Average Number of Turns Until the Next Reoffense'\n",
    "plt.figure(figsize=(6, 4))\n",
    "plt.errorbar(y, np.arange(len(y)), xerr=err, fmt='o', capsize=5)\n",
    "plt.xticks(np.arange(0, 11, 1))\n",
    "plt.yticks(np.arange(len(y)), yticks)\n",
    "# plt.title(title)\n",
    "plt.xlabel('Average Number of Turns')\n",
    "plt.ylabel('Response Strategy')\n",
    "plt.tight_layout()\n",
    "plt.savefig(os.path.join('plot', title.replace(' ', '_').lower() + '.png'))"
   ]
  },
  {
   "cell_type": "markdown",
   "metadata": {
    "colab_type": "text",
    "id": "Eg105kPoTejZ"
   },
   "source": [
    "It seems that `AVOIDANCE+NAME+REDIRECT` strategy is not only more effective in stopping abuse, it also does better in delaying offense in case the user did reoffend. On average, said strategy is able to delay user reoffense by more than 8 turns."
   ]
  },
  {
   "cell_type": "markdown",
   "metadata": {},
   "source": [
    "### Part 1.2.1 Significance Analysis on the Average Number of Turns Until the Next Reoffense (Next)\n",
    "\n",
    "We run similar analysis as part 1.1.1 on the average number of turns until the next reoffense metric."
   ]
  },
  {
   "cell_type": "code",
   "execution_count": 23,
   "metadata": {},
   "outputs": [],
   "source": [
    "def gen_table(derived_data, groups_of_strats, show_insig=False):\n",
    "    headers = ['', 'Base', 'Next', 'Alternative', 'Next', 'Delta', 'p', 'cohens_d']\n",
    "    rows = []\n",
    "    for strats in groups_of_strats:\n",
    "        statistics = get_paired_statistic(derived_data, 'turns_til_next', *strats)\n",
    "        for i in range(1, len(strats)):\n",
    "            if statistics[f'p_value_0_{i}'] < 0.05 or show_insig:\n",
    "                rows.append([\n",
    "                    len(rows) + 1,\n",
    "                    strats[0].replace(' (CONTEXTUAL)', '*'), \"{:.3f}\".format(statistics[f'mean0']),\n",
    "                    strats[i].replace(' (CONTEXTUAL)', '*'), \"{:.3f}\".format(statistics[f'mean{i}']),\n",
    "                    \"{:.3f}\".format(statistics[f'mean_diff_0_{i}']), \n",
    "                    \"{:.3g}\".format(statistics[f'p_value_0_{i}']) \\\n",
    "                        if statistics[f'p_value_0_{i}'] > 1e-10 else \"$<$ 1e-10\",\n",
    "                    \"{:.3g}\".format(statistics['cohens_d'])\n",
    "                ])\n",
    "    display(HTML(tabulate(rows, headers=headers, tablefmt='html')))\n",
    "    rows = [[row[0]] + [\"\\\\texttt{\" + row[1] + \"}\"] + [row[2]] + [\"\\\\texttt{\" + row[3] + \"}\"] + row[4:]\n",
    "            for row in rows]\n",
    "    latex_code = tabulate(rows, headers=headers, tablefmt='latex_raw')\n",
    "    return latex_code"
   ]
  },
  {
   "cell_type": "code",
   "execution_count": 24,
   "metadata": {},
   "outputs": [
    {
     "data": {
      "text/html": [
       "<table>\n",
       "<thead>\n",
       "<tr><th style=\"text-align: right;\">  </th><th>Base              </th><th style=\"text-align: right;\">  Next</th><th>Alternative            </th><th style=\"text-align: right;\">  Next</th><th style=\"text-align: right;\">  Delta</th><th>p        </th><th style=\"text-align: right;\">  cohens_d</th></tr>\n",
       "</thead>\n",
       "<tbody>\n",
       "<tr><td style=\"text-align: right;\"> 1</td><td>AVOIDANCE         </td><td style=\"text-align: right;\"> 1.01 </td><td>AVOIDANCE+REDIRECT     </td><td style=\"text-align: right;\"> 7.321</td><td style=\"text-align: right;\">  6.311</td><td>$&lt;$ 1e-10</td><td style=\"text-align: right;\">    0.869 </td></tr>\n",
       "<tr><td style=\"text-align: right;\"> 2</td><td>AVOIDANCE+NAME    </td><td style=\"text-align: right;\"> 1.017</td><td>AVOIDANCE+NAME+REDIRECT</td><td style=\"text-align: right;\"> 8.602</td><td style=\"text-align: right;\">  7.584</td><td>$&lt;$ 1e-10</td><td style=\"text-align: right;\">    0.915 </td></tr>\n",
       "<tr><td style=\"text-align: right;\"> 3</td><td>AVOIDANCE+REDIRECT</td><td style=\"text-align: right;\"> 7.321</td><td>AVOIDANCE+NAME+REDIRECT</td><td style=\"text-align: right;\"> 8.602</td><td style=\"text-align: right;\">  1.281</td><td>0.132    </td><td style=\"text-align: right;\">    0.0964</td></tr>\n",
       "<tr><td style=\"text-align: right;\"> 4</td><td>AVOIDANCE         </td><td style=\"text-align: right;\"> 1.01 </td><td>AVOIDANCE+NAME         </td><td style=\"text-align: right;\"> 1.017</td><td style=\"text-align: right;\">  0.007</td><td>0.626    </td><td style=\"text-align: right;\">    0.0211</td></tr>\n",
       "<tr><td style=\"text-align: right;\"> 5</td><td>WHY               </td><td style=\"text-align: right;\"> 1.046</td><td>WHY+NAME               </td><td style=\"text-align: right;\"> 1.333</td><td style=\"text-align: right;\">  0.288</td><td>0.202    </td><td style=\"text-align: right;\">    0.0551</td></tr>\n",
       "<tr><td style=\"text-align: right;\"> 6</td><td>AVOIDANCE+NAME    </td><td style=\"text-align: right;\"> 1.017</td><td>WHY+NAME               </td><td style=\"text-align: right;\"> 1.333</td><td style=\"text-align: right;\">  0.316</td><td>0.319    </td><td style=\"text-align: right;\">    0.0498</td></tr>\n",
       "<tr><td style=\"text-align: right;\"> 7</td><td>AVOIDANCE         </td><td style=\"text-align: right;\"> 1.01 </td><td>WHY                    </td><td style=\"text-align: right;\"> 1.046</td><td style=\"text-align: right;\">  0.035</td><td>0.276    </td><td style=\"text-align: right;\">    0.0383</td></tr>\n",
       "<tr><td style=\"text-align: right;\"> 8</td><td>AVOIDANCE+REDIRECT</td><td style=\"text-align: right;\"> 7.321</td><td>COUNTER+REDIRECT*      </td><td style=\"text-align: right;\"> 6.834</td><td style=\"text-align: right;\"> -0.486</td><td>0.416    </td><td style=\"text-align: right;\">   -0.0395</td></tr>\n",
       "<tr><td style=\"text-align: right;\"> 9</td><td>AVOIDANCE+REDIRECT</td><td style=\"text-align: right;\"> 7.321</td><td>EMPATHETIC+REDIRECT*   </td><td style=\"text-align: right;\"> 6.718</td><td style=\"text-align: right;\"> -0.603</td><td>0.291    </td><td style=\"text-align: right;\">   -0.0529</td></tr>\n",
       "</tbody>\n",
       "</table>"
      ],
      "text/plain": [
       "<IPython.core.display.HTML object>"
      ]
     },
     "metadata": {},
     "output_type": "display_data"
    },
    {
     "name": "stdout",
     "output_type": "stream",
     "text": [
      "\\begin{tabular}{rlrlrrlr}\n",
      "\\hline\n",
      "    & Base                        &   Next & Alternative                      &   Next &   Delta & p         &   cohens_d \\\\\n",
      "\\hline\n",
      "  1 & \\texttt{AVOIDANCE}          &  1.01  & \\texttt{AVOIDANCE+REDIRECT}      &  7.321 &   6.311 & $<$ 1e-10 &     0.869  \\\\\n",
      "  2 & \\texttt{AVOIDANCE+NAME}     &  1.017 & \\texttt{AVOIDANCE+NAME+REDIRECT} &  8.602 &   7.584 & $<$ 1e-10 &     0.915  \\\\\n",
      "  3 & \\texttt{AVOIDANCE+REDIRECT} &  7.321 & \\texttt{AVOIDANCE+NAME+REDIRECT} &  8.602 &   1.281 & 0.132     &     0.0964 \\\\\n",
      "  4 & \\texttt{AVOIDANCE}          &  1.01  & \\texttt{AVOIDANCE+NAME}          &  1.017 &   0.007 & 0.626     &     0.0211 \\\\\n",
      "  5 & \\texttt{WHY}                &  1.046 & \\texttt{WHY+NAME}                &  1.333 &   0.288 & 0.202     &     0.0551 \\\\\n",
      "  6 & \\texttt{AVOIDANCE+NAME}     &  1.017 & \\texttt{WHY+NAME}                &  1.333 &   0.316 & 0.319     &     0.0498 \\\\\n",
      "  7 & \\texttt{AVOIDANCE}          &  1.01  & \\texttt{WHY}                     &  1.046 &   0.035 & 0.276     &     0.0383 \\\\\n",
      "  8 & \\texttt{AVOIDANCE+REDIRECT} &  7.321 & \\texttt{COUNTER+REDIRECT*}       &  6.834 &  -0.486 & 0.416     &    -0.0395 \\\\\n",
      "  9 & \\texttt{AVOIDANCE+REDIRECT} &  7.321 & \\texttt{EMPATHETIC+REDIRECT*}    &  6.718 &  -0.603 & 0.291     &    -0.0529 \\\\\n",
      "\\hline\n",
      "\\end{tabular}\n"
     ]
    }
   ],
   "source": [
    "latex_code = gen_table(derived_data, [('AVOIDANCE', 'AVOIDANCE+REDIRECT'), \n",
    "                           ('AVOIDANCE+NAME', 'AVOIDANCE+NAME+REDIRECT'),\n",
    "                           ('AVOIDANCE+REDIRECT', 'AVOIDANCE+NAME+REDIRECT'), \n",
    "                           ('AVOIDANCE', 'AVOIDANCE+NAME'), \n",
    "                           ('WHY', 'WHY+NAME'),\n",
    "                           ('AVOIDANCE+NAME', 'WHY+NAME'), \n",
    "                           ('AVOIDANCE', 'WHY'),\n",
    "                           ('AVOIDANCE+REDIRECT', 'COUNTER+REDIRECT (CONTEXTUAL)'), \n",
    "                           ('AVOIDANCE+REDIRECT', 'EMPATHETIC+REDIRECT (CONTEXTUAL)')\n",
    "                          ], True)\n",
    "print(latex_code)"
   ]
  },
  {
   "cell_type": "markdown",
   "metadata": {},
   "source": [
    "From the pair wise one way ANOVA above, we can see that there are no significant differences within strategies that has a prompt and strategies without a prompt. The only significant difference is from row 1 and row 2, which showed a significant increase in the number of number of turns until the next re-offnese when using a prompt. We also see that the gap between re-offenses is near 1 for strategies without a prompt, indicating the user almost immediately re-offend after our response. This strengthens our hypothesis that using a prompt to actively redirect the conversation is key to mitigating offensive user behavior."
   ]
  },
  {
   "cell_type": "markdown",
   "metadata": {},
   "source": [
    "### Part 1.3 Average Number of Turns Until the End of the Conversation (End)\n",
    "\n",
    "There are two ways a strategy can be effective at stopping abuse, either by stopping the conversation entirely or re-engaging with the user. Though it is hard to automatically measure engagingness of the conversation, we can measure the average length of the rest of the conversation assuming the user did not reoffend. Here, we answer the question \"out of all the conversations where use did not reoffend, what is the average length of the rest of the conversation?\""
   ]
  },
  {
   "cell_type": "code",
   "execution_count": 25,
   "metadata": {},
   "outputs": [
    {
     "data": {
      "image/png": "[encoded data removed]",
      "text/plain": [
       "<Figure size 432x288 with 1 Axes>"
      ]
     },
     "metadata": {
      "needs_background": "light"
     },
     "output_type": "display_data"
    }
   ],
   "source": [
    "# All strategies plot\n",
    "\n",
    "statistics = get_paired_statistic(derived_data, 'turns_til_end', *strategies)\n",
    "y = np.array([statistics[f'mean{i}'] for i, _ in enumerate(strategies)])\n",
    "err = np.array([statistics[f'se{i}'] for i, _ in enumerate(strategies)])\n",
    "yticks = np.array(strategies)\n",
    "sort_order = np.argsort(y)\n",
    "y, err, yticks = y[sort_order], err[sort_order], yticks[sort_order]\n",
    "\n",
    "title = 'Average Number of Turns Until the End (assuming no reoffense)'\n",
    "plt.figure(figsize=(6, 4))\n",
    "plt.errorbar(y, np.arange(len(y)), xerr=err, fmt='o', capsize=5)\n",
    "plt.xticks(np.arange(0, 21, 3))\n",
    "plt.yticks(np.arange(len(y)), yticks)\n",
    "# plt.title(title)\n",
    "plt.xlabel('Average Number of Turns')\n",
    "plt.ylabel('Response Strategy')\n",
    "plt.tight_layout()\n",
    "plt.savefig(os.path.join('plot', title.replace(' ', '_').lower() + '.png'))"
   ]
  },
  {
   "cell_type": "markdown",
   "metadata": {},
   "source": [
    "The plot above shows that on average, assuming the users did not reoffend, the strategies with a prompt has longer conversations after our response as compared to the strategies without a prompt. This indicates that when the no-prompt responses are able to stop the abuse, it did so by stopping the conversation immediately. On the other hand, the strategies with a prompt is able to redirect the user to engage longer with the bot."
   ]
  },
  {
   "cell_type": "markdown",
   "metadata": {},
   "source": [
    "### Part 1.3.1 Significance Analysis of Average Number of Turns Until the End of the Conversation (End)"
   ]
  },
  {
   "cell_type": "code",
   "execution_count": 26,
   "metadata": {},
   "outputs": [],
   "source": [
    "def gen_table(derived_data, groups_of_strats, show_insig=False):\n",
    "    headers = ['', 'Base', 'End', 'Alternative', 'End', 'Delta', 'p', 'cohens_d']\n",
    "    rows = []\n",
    "    for strats in groups_of_strats:\n",
    "        statistics = get_paired_statistic(derived_data, 'turns_til_end', *strats)\n",
    "        for i in range(1, len(strats)):\n",
    "            if statistics[f'p_value_0_{i}'] < 0.05 or show_insig:\n",
    "                rows.append([\n",
    "                    len(rows) + 1,\n",
    "                    strats[0].replace(' (CONTEXTUAL)', '*'), \"{:.3f}\".format(statistics[f'mean0']),\n",
    "                    strats[i].replace(' (CONTEXTUAL)', '*'), \"{:.3f}\".format(statistics[f'mean{i}']),\n",
    "                    \"{:.3f}\".format(statistics[f'mean_diff_0_{i}']), \n",
    "                    \"{:.3g}\".format(statistics[f'p_value_0_{i}']) \\\n",
    "                        if statistics[f'p_value_0_{i}'] > 1e-10 else \"$<$ 1e-10\",\n",
    "                    \"{:.3g}\".format(statistics['cohens_d'])\n",
    "                ])\n",
    "    display(HTML(tabulate(rows, headers=headers, tablefmt='html')))\n",
    "    rows = [[row[0]] + [\"\\\\texttt{\" + row[1] + \"}\"] + [row[2]] + [\"\\\\texttt{\" + row[3] + \"}\"] + row[4:]\n",
    "            for row in rows]\n",
    "    latex_code = tabulate(rows, headers=headers, tablefmt='latex_raw')\n",
    "    return latex_code"
   ]
  },
  {
   "cell_type": "code",
   "execution_count": 27,
   "metadata": {},
   "outputs": [
    {
     "data": {
      "text/html": [
       "<table>\n",
       "<thead>\n",
       "<tr><th style=\"text-align: right;\">  </th><th>Base              </th><th style=\"text-align: right;\">   End</th><th>Alternative            </th><th style=\"text-align: right;\">   End</th><th style=\"text-align: right;\">  Delta</th><th>p        </th><th style=\"text-align: right;\">  cohens_d</th></tr>\n",
       "</thead>\n",
       "<tbody>\n",
       "<tr><td style=\"text-align: right;\"> 1</td><td>AVOIDANCE         </td><td style=\"text-align: right;\"> 1.078</td><td>AVOIDANCE+REDIRECT     </td><td style=\"text-align: right;\">13.499</td><td style=\"text-align: right;\"> 12.421</td><td>$&lt;$ 1e-10</td><td style=\"text-align: right;\">   0.745  </td></tr>\n",
       "<tr><td style=\"text-align: right;\"> 2</td><td>AVOIDANCE+NAME    </td><td style=\"text-align: right;\"> 1.111</td><td>AVOIDANCE+NAME+REDIRECT</td><td style=\"text-align: right;\">16.313</td><td style=\"text-align: right;\"> 15.202</td><td>7.03e-07 </td><td style=\"text-align: right;\">   0.719  </td></tr>\n",
       "<tr><td style=\"text-align: right;\"> 3</td><td>AVOIDANCE+REDIRECT</td><td style=\"text-align: right;\">13.499</td><td>AVOIDANCE+NAME+REDIRECT</td><td style=\"text-align: right;\">16.313</td><td style=\"text-align: right;\">  2.814</td><td>0.00881  </td><td style=\"text-align: right;\">   0.144  </td></tr>\n",
       "<tr><td style=\"text-align: right;\"> 4</td><td>AVOIDANCE         </td><td style=\"text-align: right;\"> 1.078</td><td>AVOIDANCE+NAME         </td><td style=\"text-align: right;\"> 1.111</td><td style=\"text-align: right;\">  0.033</td><td>0.928    </td><td style=\"text-align: right;\">   0.0145 </td></tr>\n",
       "<tr><td style=\"text-align: right;\"> 5</td><td>WHY               </td><td style=\"text-align: right;\"> 1.094</td><td>WHY+NAME               </td><td style=\"text-align: right;\"> 2.409</td><td style=\"text-align: right;\">  1.315</td><td>0.276    </td><td style=\"text-align: right;\">   0.205  </td></tr>\n",
       "<tr><td style=\"text-align: right;\"> 6</td><td>AVOIDANCE+NAME    </td><td style=\"text-align: right;\"> 1.111</td><td>WHY+NAME               </td><td style=\"text-align: right;\"> 2.409</td><td style=\"text-align: right;\">  1.298</td><td>0.366    </td><td style=\"text-align: right;\">   0.187  </td></tr>\n",
       "<tr><td style=\"text-align: right;\"> 7</td><td>AVOIDANCE         </td><td style=\"text-align: right;\"> 1.078</td><td>WHY                    </td><td style=\"text-align: right;\"> 1.094</td><td style=\"text-align: right;\">  0.016</td><td>0.965    </td><td style=\"text-align: right;\">   0.00606</td></tr>\n",
       "<tr><td style=\"text-align: right;\"> 8</td><td>AVOIDANCE+REDIRECT</td><td style=\"text-align: right;\">13.499</td><td>COUNTER+REDIRECT*      </td><td style=\"text-align: right;\">12.337</td><td style=\"text-align: right;\"> -1.162</td><td>0.172    </td><td style=\"text-align: right;\">  -0.0624 </td></tr>\n",
       "<tr><td style=\"text-align: right;\"> 9</td><td>AVOIDANCE+REDIRECT</td><td style=\"text-align: right;\">13.499</td><td>EMPATHETIC+REDIRECT*   </td><td style=\"text-align: right;\">13.126</td><td style=\"text-align: right;\"> -0.373</td><td>0.643    </td><td style=\"text-align: right;\">  -0.0209 </td></tr>\n",
       "</tbody>\n",
       "</table>"
      ],
      "text/plain": [
       "<IPython.core.display.HTML object>"
      ]
     },
     "metadata": {},
     "output_type": "display_data"
    },
    {
     "name": "stdout",
     "output_type": "stream",
     "text": [
      "\\begin{tabular}{rlrlrrlr}\n",
      "\\hline\n",
      "    & Base                        &    End & Alternative                      &    End &   Delta & p         &   cohens_d \\\\\n",
      "\\hline\n",
      "  1 & \\texttt{AVOIDANCE}          &  1.078 & \\texttt{AVOIDANCE+REDIRECT}      & 13.499 &  12.421 & $<$ 1e-10 &    0.745   \\\\\n",
      "  2 & \\texttt{AVOIDANCE+NAME}     &  1.111 & \\texttt{AVOIDANCE+NAME+REDIRECT} & 16.313 &  15.202 & 7.03e-07  &    0.719   \\\\\n",
      "  3 & \\texttt{AVOIDANCE+REDIRECT} & 13.499 & \\texttt{AVOIDANCE+NAME+REDIRECT} & 16.313 &   2.814 & 0.00881   &    0.144   \\\\\n",
      "  4 & \\texttt{AVOIDANCE}          &  1.078 & \\texttt{AVOIDANCE+NAME}          &  1.111 &   0.033 & 0.928     &    0.0145  \\\\\n",
      "  5 & \\texttt{WHY}                &  1.094 & \\texttt{WHY+NAME}                &  2.409 &   1.315 & 0.276     &    0.205   \\\\\n",
      "  6 & \\texttt{AVOIDANCE+NAME}     &  1.111 & \\texttt{WHY+NAME}                &  2.409 &   1.298 & 0.366     &    0.187   \\\\\n",
      "  7 & \\texttt{AVOIDANCE}          &  1.078 & \\texttt{WHY}                     &  1.094 &   0.016 & 0.965     &    0.00606 \\\\\n",
      "  8 & \\texttt{AVOIDANCE+REDIRECT} & 13.499 & \\texttt{COUNTER+REDIRECT*}       & 12.337 &  -1.162 & 0.172     &   -0.0624  \\\\\n",
      "  9 & \\texttt{AVOIDANCE+REDIRECT} & 13.499 & \\texttt{EMPATHETIC+REDIRECT*}    & 13.126 &  -0.373 & 0.643     &   -0.0209  \\\\\n",
      "\\hline\n",
      "\\end{tabular}\n"
     ]
    }
   ],
   "source": [
    "latex_code = gen_table(derived_data, [('AVOIDANCE', 'AVOIDANCE+REDIRECT'), \n",
    "                           ('AVOIDANCE+NAME', 'AVOIDANCE+NAME+REDIRECT'),\n",
    "                           ('AVOIDANCE+REDIRECT', 'AVOIDANCE+NAME+REDIRECT'), \n",
    "                           ('AVOIDANCE', 'AVOIDANCE+NAME'), \n",
    "                           ('WHY', 'WHY+NAME'),\n",
    "                           ('AVOIDANCE+NAME', 'WHY+NAME'), \n",
    "                           ('AVOIDANCE', 'WHY'),\n",
    "                           ('AVOIDANCE+REDIRECT', 'COUNTER+REDIRECT (CONTEXTUAL)'), \n",
    "                           ('AVOIDANCE+REDIRECT', 'EMPATHETIC+REDIRECT (CONTEXTUAL)')\n",
    "                          ], True)\n",
    "print(latex_code)"
   ]
  },
  {
   "cell_type": "markdown",
   "metadata": {},
   "source": [
    "The pair wise one way anova shows that there is a significant increase in the length of the rest of the conversation when adding a prompt to the response. Though there seems to be a significant increase when comparing AVOIDANCE+PROMPT and AVOIDANCE+NAME+PROMPT, as stated in our limitations section, this could be due to the fact that user who did not provide a name to our bot are less likely to be offensive in general, so this significance is somewhat weakened."
   ]
  },
  {
   "cell_type": "code",
   "execution_count": 28,
   "metadata": {},
   "outputs": [],
   "source": [
    "def gen_final_table(derived_data, groups_of_strats):\n",
    "    headers = ['', 'Base', 'Alternative', '$\\Delta$Re-offense', '$\\Delta$End', '$\\Delta$Next']\n",
    "    rows = []\n",
    "    for strats in groups_of_strats:\n",
    "        statistics_reoffend = get_paired_statistic(derived_data, 'reoffend', *strats)\n",
    "        statistics_end = get_paired_statistic(derived_data, 'turns_til_end', *strats)\n",
    "        statistics_next = get_paired_statistic(derived_data, 'turns_til_next', *strats)\n",
    "        for i in range(1, len(strats)):\n",
    "            rows.append([\n",
    "                len(rows) + 1,\n",
    "                strats[0].replace(' (CONTEXTUAL)', ''),\n",
    "                strats[i].replace(' (CONTEXTUAL)', ''),\n",
    "                \"\\\\textbf{{{:.3f}}}\".format(statistics_reoffend[f'mean_diff_0_{i}']) \\\n",
    "                    if statistics_reoffend[f'p_value_0_{i}'] < 0.05\\\n",
    "                    else \"{:.3f}\".format(statistics_reoffend[f'mean_diff_0_{i}']),\n",
    "                \"\\\\textbf{{{:.3f}}}\".format(statistics_end[f'mean_diff_0_{i}']) \\\n",
    "                    if statistics_end[f'p_value_0_{i}'] < 0.05\\\n",
    "                    else \"{:.3f}\".format(statistics_end[f'mean_diff_0_{i}']),\n",
    "                \"\\\\textbf{{{:.3f}}}\".format(statistics_next[f'mean_diff_0_{i}']) \\\n",
    "                    if statistics_next[f'p_value_0_{i}'] < 0.05\\\n",
    "                    else \"{:.3f}\".format(statistics_next[f'mean_diff_0_{i}']),\n",
    "            ])\n",
    "    display(HTML(tabulate(rows, headers=headers, tablefmt='html')))\n",
    "    rows = [[row[0]] + [\"\\\\texttt{\" + row[1] + \"}\"] + [\"\\\\texttt{\" + row[2] + \"}\"] + row[3:]\n",
    "            for row in rows]\n",
    "    latex_code = tabulate(rows, headers=headers, tablefmt='latex_raw')\n",
    "    return latex_code"
   ]
  },
  {
   "cell_type": "code",
   "execution_count": 29,
   "metadata": {},
   "outputs": [
    {
     "data": {
      "text/html": [
       "<table>\n",
       "<thead>\n",
       "<tr><th style=\"text-align: right;\">  </th><th>Base              </th><th>Alternative            </th><th>$\\Delta$Re-offense  </th><th>$\\Delta$End    </th><th>$\\Delta$Next  </th></tr>\n",
       "</thead>\n",
       "<tbody>\n",
       "<tr><td style=\"text-align: right;\"> 1</td><td>AVOIDANCE         </td><td>AVOIDANCE+REDIRECT     </td><td>\\textbf{-0.452}     </td><td>\\textbf{12.421}</td><td>\\textbf{6.311}</td></tr>\n",
       "<tr><td style=\"text-align: right;\"> 2</td><td>AVOIDANCE+NAME    </td><td>AVOIDANCE+NAME+REDIRECT</td><td>\\textbf{-0.532}     </td><td>\\textbf{15.202}</td><td>\\textbf{7.584}</td></tr>\n",
       "<tr><td style=\"text-align: right;\"> 3</td><td>AVOIDANCE+REDIRECT</td><td>AVOIDANCE+NAME+REDIRECT</td><td>\\textbf{-0.060}     </td><td>\\textbf{2.814} </td><td>1.281         </td></tr>\n",
       "<tr><td style=\"text-align: right;\"> 4</td><td>AVOIDANCE         </td><td>AVOIDANCE+NAME         </td><td>0.020               </td><td>0.033          </td><td>0.007         </td></tr>\n",
       "<tr><td style=\"text-align: right;\"> 5</td><td>WHY               </td><td>WHY+NAME               </td><td>-0.004              </td><td>1.315          </td><td>0.288         </td></tr>\n",
       "<tr><td style=\"text-align: right;\"> 6</td><td>AVOIDANCE+NAME    </td><td>WHY+NAME               </td><td>0.010               </td><td>1.298          </td><td>0.316         </td></tr>\n",
       "<tr><td style=\"text-align: right;\"> 7</td><td>AVOIDANCE         </td><td>WHY                    </td><td>\\textbf{0.033}      </td><td>0.016          </td><td>0.035         </td></tr>\n",
       "<tr><td style=\"text-align: right;\"> 8</td><td>AVOIDANCE+REDIRECT</td><td>COUNTER+REDIRECT       </td><td>0.005               </td><td>-1.162         </td><td>-0.486        </td></tr>\n",
       "<tr><td style=\"text-align: right;\"> 9</td><td>AVOIDANCE+REDIRECT</td><td>EMPATHETIC+REDIRECT    </td><td>\\textbf{-0.035}     </td><td>-0.373         </td><td>-0.603        </td></tr>\n",
       "</tbody>\n",
       "</table>"
      ],
      "text/plain": [
       "<IPython.core.display.HTML object>"
      ]
     },
     "metadata": {},
     "output_type": "display_data"
    },
    {
     "name": "stdout",
     "output_type": "stream",
     "text": [
      "\\begin{tabular}{rlllll}\n",
      "\\hline\n",
      "    & Base                        & Alternative                      & $\\Delta$Re-offense   & $\\Delta$End     & $\\Delta$Next   \\\\\n",
      "\\hline\n",
      "  1 & \\texttt{AVOIDANCE}          & \\texttt{AVOIDANCE+REDIRECT}      & \\textbf{-0.452}      & \\textbf{12.421} & \\textbf{6.311} \\\\\n",
      "  2 & \\texttt{AVOIDANCE+NAME}     & \\texttt{AVOIDANCE+NAME+REDIRECT} & \\textbf{-0.532}      & \\textbf{15.202} & \\textbf{7.584} \\\\\n",
      "  3 & \\texttt{AVOIDANCE+REDIRECT} & \\texttt{AVOIDANCE+NAME+REDIRECT} & \\textbf{-0.060}      & \\textbf{2.814}  & 1.281          \\\\\n",
      "  4 & \\texttt{AVOIDANCE}          & \\texttt{AVOIDANCE+NAME}          & 0.020                & 0.033           & 0.007          \\\\\n",
      "  5 & \\texttt{WHY}                & \\texttt{WHY+NAME}                & -0.004               & 1.315           & 0.288          \\\\\n",
      "  6 & \\texttt{AVOIDANCE+NAME}     & \\texttt{WHY+NAME}                & 0.010                & 1.298           & 0.316          \\\\\n",
      "  7 & \\texttt{AVOIDANCE}          & \\texttt{WHY}                     & \\textbf{0.033}       & 0.016           & 0.035          \\\\\n",
      "  8 & \\texttt{AVOIDANCE+REDIRECT} & \\texttt{COUNTER+REDIRECT}        & 0.005                & -1.162          & -0.486         \\\\\n",
      "  9 & \\texttt{AVOIDANCE+REDIRECT} & \\texttt{EMPATHETIC+REDIRECT}     & \\textbf{-0.035}      & -0.373          & -0.603         \\\\\n",
      "\\hline\n",
      "\\end{tabular}\n"
     ]
    }
   ],
   "source": [
    "latex_code = gen_final_table(derived_data, [('AVOIDANCE', 'AVOIDANCE+REDIRECT'), \n",
    "                           ('AVOIDANCE+NAME', 'AVOIDANCE+NAME+REDIRECT'),\n",
    "                           ('AVOIDANCE+REDIRECT', 'AVOIDANCE+NAME+REDIRECT'), \n",
    "                           ('AVOIDANCE', 'AVOIDANCE+NAME'), \n",
    "                           ('WHY', 'WHY+NAME'),\n",
    "                           ('AVOIDANCE+NAME', 'WHY+NAME'), \n",
    "                           ('AVOIDANCE', 'WHY'),\n",
    "                           ('AVOIDANCE+REDIRECT', 'COUNTER+REDIRECT (CONTEXTUAL)'), \n",
    "                           ('AVOIDANCE+REDIRECT', 'EMPATHETIC+REDIRECT (CONTEXTUAL)')\n",
    "                          ])\n",
    "print(latex_code)"
   ]
  },
  {
   "cell_type": "markdown",
   "metadata": {
    "colab_type": "text",
    "id": "slZH7hpMZTd4"
   },
   "source": [
    "## Part 2. Offense Type Analysis\n",
    "\n",
    "In this section we briefly summarize the types of offenses we are getting as well as their frequencies. After we manually annotated the top 500 offensive utterances, we also annotated the type of offense that they belong to as well into 5 broad categories. However, we will not include these analysis in our paper due to page limit, but interested readers may draw interesting conclusions from this section\n"
   ]
  },
  {
   "cell_type": "code",
   "execution_count": 30,
   "metadata": {
    "colab": {},
    "colab_type": "code",
    "id": "5Ihe9smHZTd5",
    "outputId": "2c6d0f11-4408-4f54-904c-25b4d291bc65"
   },
   "outputs": [
    {
     "name": "stdout",
     "output_type": "stream",
     "text": [
      "The offense types that exist in our dataset are:\n",
      "\n",
      "  ['curse', 'inappropriate topic', 'criticism', 'sexual', 'bodily harm']\n"
     ]
    }
   ],
   "source": [
    "# Finding all the different offense types that exist in our dataset\n",
    "offense_types = list(set(offensive_turn['offense_type'] for metadata in data for offensive_turn in metadata['offensive_turns']))\n",
    "\n",
    "# Summarizing the findings\n",
    "print(f\"The offense types that exist in our dataset are:\\n\\n  {offense_types}\")"
   ]
  },
  {
   "cell_type": "markdown",
   "metadata": {
    "colab_type": "text",
    "id": "C9bhS3SrZTeB"
   },
   "source": [
    "### i. Number of Utterances by Offense Type\n",
    "\n",
    "We first want to analyze how common each offense type is in our dataset. To do so, we count how many utterances are attributed to each offense type."
   ]
  },
  {
   "cell_type": "code",
   "execution_count": 31,
   "metadata": {
    "colab": {},
    "colab_type": "code",
    "id": "61pkBHjuZTeC",
    "outputId": "0f15ea80-739a-4a68-f298-9d737f9f6830",
    "scrolled": false
   },
   "outputs": [
    {
     "name": "stdout",
     "output_type": "stream",
     "text": [
      "There are total of 49511 offensive utterances in our dataset.\n",
      "Number of offensive utterances for each offense type:\n"
     ]
    },
    {
     "data": {
      "text/plain": [
       "Counter({'sexual': 24808,\n",
       "         'curse': 7685,\n",
       "         'inappropriate topic': 11455,\n",
       "         'criticism': 5100,\n",
       "         'bodily harm': 463})"
      ]
     },
     "execution_count": 31,
     "metadata": {},
     "output_type": "execute_result"
    }
   ],
   "source": [
    "# Counting the number of occurence of each offense type\n",
    "utterance_offense_types_list = [offensive_turn['offense_type'] for metadata in data for offensive_turn in metadata['offensive_turns']]\n",
    "utterance_offense_types_counter = Counter(utterance_offense_types_list)\n",
    "\n",
    "# Summarizing the findings\n",
    "print(f\"There are total of {len(utterance_offense_types_list)} offensive utterances in our dataset.\")\n",
    "print(\"Number of offensive utterances for each offense type:\")\n",
    "utterance_offense_types_counter"
   ]
  },
  {
   "cell_type": "code",
   "execution_count": 32,
   "metadata": {
    "colab": {},
    "colab_type": "code",
    "id": "-2CTQ6U2ZTeJ",
    "outputId": "a53a20d2-b578-43b7-bbb8-cc42eb1d97b1"
   },
   "outputs": [
    {
     "data": {
      "image/png": "[encoded data removed]",
      "text/plain": [
       "<Figure size 432x432 with 1 Axes>"
      ]
     },
     "metadata": {
      "needs_background": "light"
     },
     "output_type": "display_data"
    }
   ],
   "source": [
    "# Preparing the data for plotting\n",
    "labels, values = zip(*utterance_offense_types_counter.most_common())\n",
    "indices = list(range(0, len(labels)))\n",
    "BAR_WIDTH = 0.8\n",
    "\n",
    "# Plotting the data\n",
    "plt.figure(figsize=(6, 6))\n",
    "plt.barh(indices, values, BAR_WIDTH)\n",
    "plt.yticks(indices, labels) # TODO use a make title function\n",
    "# plt.title('Number of Utterances by Offense Type')\n",
    "plt.ylabel('Offense Type')\n",
    "plt.xlabel('Number of Utterances')\n",
    "plt.tight_layout()\n",
    "plt.savefig('number_of_utterances_by_offense_type.png')"
   ]
  },
  {
   "cell_type": "markdown",
   "metadata": {
    "colab_type": "text",
    "id": "WJIwORK8ZTef"
   },
   "source": [
    "From the figure above it can be seen that more than half of the offensive turns are attributed to sexual offenses. However, it is also possible that the reason we captured this many sexual offenses is because we have selected many sexually offensive phrases as part of our 500-phrases."
   ]
  },
  {
   "cell_type": "markdown",
   "metadata": {
    "colab_type": "text",
    "id": "uTMRza9TZTey"
   },
   "source": [
    "### ii. Co-occurence of Offense Types\n",
    "\n",
    "We are also interested in whether different types co-occur."
   ]
  },
  {
   "cell_type": "code",
   "execution_count": 33,
   "metadata": {
    "colab": {},
    "colab_type": "code",
    "id": "fY5Thy2CZTez",
    "scrolled": false
   },
   "outputs": [],
   "source": [
    "# Calculate the co-occurence matrix \n",
    "def calculate_offense_type_cooccurence_matrix(data):\n",
    "    inds = dict((t, ind) for ind, t in enumerate(offense_types))\n",
    "    matrix = np.zeros((len(offense_types), len(offense_types)))\n",
    "\n",
    "    offensive_user_convo_types = [Counter(offensive_turn['offense_type'] for offensive_turn in metadata['offensive_turns']) for metadata in data]\n",
    "    for c in offensive_user_convo_types:\n",
    "        # First count diagonal entries\n",
    "        for t, count in c.items():\n",
    "            if count > 1:\n",
    "                matrix[inds[t], inds[t]] += 1\n",
    "        # Then count everything else\n",
    "        for (t1, _), (t2, _) in combinations(c.items(), 2):\n",
    "            if t1 != t2:\n",
    "                matrix[inds[t1], inds[t2]] += 1\n",
    "                matrix[inds[t2], inds[t1]] += 1\n",
    "\n",
    "    return matrix"
   ]
  },
  {
   "cell_type": "code",
   "execution_count": 34,
   "metadata": {
    "colab": {
     "base_uri": "https://localhost:8080/",
     "height": 315
    },
    "colab_type": "code",
    "executionInfo": {
     "elapsed": 1205,
     "status": "ok",
     "timestamp": 1598120023346,
     "user": {
      "displayName": "Dilara Soylu",
      "photoUrl": "https://lh3.googleusercontent.com/a-/AOh14GiXeL-5Vw_8gkALE3ENrTi7S16sbiQMtLdVxgfF=s64",
      "userId": "16568250040983174278"
     },
     "user_tz": 420
    },
    "id": "WxIyCJ7EZTe5",
    "outputId": "dd3cb863-ffaa-421e-ba75-755d67dc3371"
   },
   "outputs": [
    {
     "data": {
      "image/png": "[encoded data removed]",
      "text/plain": [
       "<Figure size 432x432 with 1 Axes>"
      ]
     },
     "metadata": {
      "needs_background": "light"
     },
     "output_type": "display_data"
    }
   ],
   "source": [
    "# Prepare the data\n",
    "matrix = calculate_offense_type_cooccurence_matrix(data)\n",
    "\n",
    "# Plot the data\n",
    "fig = plt.figure(figsize=(6, 6))\n",
    "ax = fig.subplots()\n",
    "ax.matshow(matrix, cmap=plt.cm.Oranges)\n",
    "for (x, y), value in np.ndenumerate(matrix):\n",
    "    ax.text(x, y, f\"{int(value)}\", va='center', ha='center')\n",
    "x_labels = [''] + [label for label in offense_types] + [''] # TODO Fix the label\n",
    "x_labels = ['\\n'.join(label.split(' ')) for label in x_labels]# TODO Fix the label\n",
    "ax.set_xticks(range(-1, 6))\n",
    "ax.set_xticklabels(x_labels)\n",
    "ax.set_yticks(range(-1, 6))\n",
    "ax.set_yticklabels(x_labels)\n",
    "# plt.xticks(range(0, 5), x_labels) # TODO Fix the label\n",
    "# plt.yticks(range(0, 5), offense_types)\n",
    "fig.tight_layout()\n",
    "# plt.title('Offense Type Co-occurrence Matrix')\n",
    "fig.savefig('type_cooccurrence.png')"
   ]
  },
  {
   "cell_type": "markdown",
   "metadata": {
    "colab_type": "text",
    "id": "iGRoZanmZTe_"
   },
   "source": [
    "Note that all entries of the co-occurance matrix above are for conversations with more than 1 type of offenses (and diagonal entries counts conversations with the same repeated offenses) \n",
    "\n",
    "The plot above shows that users who make sexually offensive remarks are also much more likely to bring up inappropriate topics, meaning that these offenders made a broader attempt to offend our bot instead of just sexually offending. However, this could also be an effect of classification, since most curse words are sexual in nature and many inappropriate topics are also sexual in nature"
   ]
  },
  {
   "cell_type": "markdown",
   "metadata": {
    "colab_type": "text",
    "id": "3_DTN677ZTfA"
   },
   "source": [
    "### iii. Relationship Between Offense Type and the Probability of Re-offense\n",
    "\n",
    "The question we are interested in is whether the type of initial offense affect the probability of whether or not user would reoffend. We want to be able to see whether we can predict how \"determined\" a user is in offending us by their initial offense type. \n",
    "\n",
    "We are also interested to know whether the type of offense can also indicate user's \"intention\" by measuring the probability that user will only use the same type of offense for the rest of the conversation given they have offended.\n",
    "\n",
    "Note that in this analysis, it is possible that we did not respond to the initial offense due to a limitation with our bot which will be described in detail in the paper."
   ]
  },
  {
   "cell_type": "code",
   "execution_count": 35,
   "metadata": {
    "colab": {},
    "colab_type": "code",
    "id": "jef5hZKRZTfB",
    "outputId": "76815cf5-ab8f-46b2-a14b-ef3a35927914",
    "scrolled": false
   },
   "outputs": [
    {
     "name": "stdout",
     "output_type": "stream",
     "text": [
      "Re-offense probabilities and the standard error associated with them for each offense type:\n"
     ]
    },
    {
     "data": {
      "text/html": [
       "<table>\n",
       "<thead>\n",
       "<tr><th>Type               </th><th style=\"text-align: right;\">  P(reoffend|type)</th><th style=\"text-align: right;\">       CI</th><th style=\"text-align: right;\">  P(sole|reoffend, type)</th><th style=\"text-align: right;\">       CI</th></tr>\n",
       "</thead>\n",
       "<tbody>\n",
       "<tr><td>bodily harm        </td><td style=\"text-align: right;\">          0.815789</td><td style=\"text-align: right;\">0.0726146</td><td style=\"text-align: right;\">                0.215054</td><td style=\"text-align: right;\">0.0852083</td></tr>\n",
       "<tr><td>sexual             </td><td style=\"text-align: right;\">          0.734068</td><td style=\"text-align: right;\">0.01208  </td><td style=\"text-align: right;\">                0.616344</td><td style=\"text-align: right;\">0.0155177</td></tr>\n",
       "<tr><td>inappropriate topic</td><td style=\"text-align: right;\">          0.674086</td><td style=\"text-align: right;\">0.0152594</td><td style=\"text-align: right;\">                0.603774</td><td style=\"text-align: right;\">0.0193946</td></tr>\n",
       "<tr><td>curse              </td><td style=\"text-align: right;\">          0.663757</td><td style=\"text-align: right;\">0.0202503</td><td style=\"text-align: right;\">                0.407612</td><td style=\"text-align: right;\">0.0258537</td></tr>\n",
       "<tr><td>criticism          </td><td style=\"text-align: right;\">          0.601613</td><td style=\"text-align: right;\">0.0227031</td><td style=\"text-align: right;\">                0.596068</td><td style=\"text-align: right;\">0.0293371</td></tr>\n",
       "</tbody>\n",
       "</table>"
      ],
      "text/plain": [
       "<IPython.core.display.HTML object>"
      ]
     },
     "metadata": {},
     "output_type": "display_data"
    }
   ],
   "source": [
    "# Function calculating the estimated probability and the confidence interval\n",
    "def calculate_estimated_probability(values):\n",
    "    p = np.mean(values)\n",
    "    ci = 2 * np.sqrt(p * (1 - p) / len(values))\n",
    "    return p, ci\n",
    "\n",
    "# Initialize the dictionaries holding the expected probability of re-offending and the confidence interval for each offense type\n",
    "y_reoffense_one_hot_any = {}\n",
    "y_reoffense_one_hot_sole = {}\n",
    "\n",
    "# Iterate through all the offense types and calculate the probability of re-offending\n",
    "for offense_type in offense_types:\n",
    "    # Filter the data to only consider the conversations where the initial offense is the same as the offense_type\n",
    "    filtered_metadata = [metadata for metadata in data if offense_type == metadata['offensive_turns'][0]['offense_type']]\n",
    "    # Create a list containing whether or not there is a repeat offense for each of the filtered datapoints\n",
    "    reoffense_one_hot_any = [len(metadata['offensive_turns']) > 1 for metadata in filtered_metadata]\n",
    "    reoffense_one_hot_sole = [all(turn['offense_type'] == offense_type \n",
    "                                  for turn in metadata['offensive_turns'][1:])\n",
    "                              for metadata in filtered_metadata if len(metadata['offensive_turns']) > 1]\n",
    "    # Calculate the expected probability of re-offending and the confidence interval\n",
    "    y_reoffense_one_hot_any[offense_type] = calculate_estimated_probability(reoffense_one_hot_any)\n",
    "    y_reoffense_one_hot_sole[offense_type] = calculate_estimated_probability(reoffense_one_hot_sole)\n",
    "    \n",
    "# Printing an example y # TODO better printing\n",
    "print(\"Re-offense probabilities and the standard error associated with them for each offense type:\")\n",
    "headers = ['Type', \n",
    "           'P(reoffend|type)', 'CI', \n",
    "#            'P(reoffend same)', 'CI', 'P(reoffend diff)', 'CI', \n",
    "           'P(sole|reoffend, type)', 'CI']\n",
    "ordered_types = sorted(y_reoffense_one_hot_any.keys(), \n",
    "                       key=lambda t: y_reoffense_one_hot_any[t][0], reverse=True)\n",
    "rows = []\n",
    "for offense_type in ordered_types:\n",
    "    rows.append([\n",
    "        offense_type,\n",
    "        y_reoffense_one_hot_any[offense_type][0],\n",
    "        y_reoffense_one_hot_any[offense_type][1],\n",
    "        y_reoffense_one_hot_sole[offense_type][0],\n",
    "        y_reoffense_one_hot_sole[offense_type][1]\n",
    "    ])\n",
    "display(HTML(tabulate(rows, headers=headers, tablefmt='html')))\n",
    "# print(tabulate(rows, headers=headers, tablefmt='latex'))"
   ]
  },
  {
   "cell_type": "markdown",
   "metadata": {
    "colab_type": "text",
    "id": "bSwkE5TM-f7m"
   },
   "source": [
    "From the table above, we can see that user is much more likely to offend if the initial offense type is bodily harm, but user usually will use a different tactict when reoffending. On the contrary, users who initially offend using sexually explicit language are not only more likely to reoffend (at 0.73 reoffend rate probability) but are also more likely to reoffend using solely sexually explicit languages (at 0.61 sole offense probability). This shows that **users who offend our bot sexually are not only more motivated, but also more intended in offending our bot sexually.** "
   ]
  },
  {
   "cell_type": "code",
   "execution_count": null,
   "metadata": {},
   "outputs": [],
   "source": []
  }
 ],
 "metadata": {
  "colab": {
   "collapsed_sections": [],
   "name": "Offensive User Paper Analysis Notebook.ipynb",
   "provenance": [
    {
     "file_id": "13dWl5rfh1j3CYWC4mCYmdjLuJFGpdfqG",
     "timestamp": 1598099794361
    }
   ],
   "toc_visible": true
  },
  "kernelspec": {
   "display_name": "Python 3",
   "language": "python",
   "name": "python3"
  },
  "language_info": {
   "codemirror_mode": {
    "name": "ipython",
    "version": 3
   },
   "file_extension": ".py",
   "mimetype": "text/x-python",
   "name": "python",
   "nbconvert_exporter": "python",
   "pygments_lexer": "ipython3",
   "version": "3.7.5"
  }
 },
 "nbformat": 4,
 "nbformat_minor": 1
}
